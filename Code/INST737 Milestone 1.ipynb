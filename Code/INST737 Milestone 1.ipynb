{
 "cells": [
  {
   "cell_type": "code",
   "execution_count": 35,
   "metadata": {},
   "outputs": [],
   "source": [
    "#To perform the data wrangling, we are using pandas library in python.\n",
    "import pandas as pd\n",
    "data2015='/Users/gauravhasija/Desktop/INST737_DATASETS/DataCsv/H-1B_Disclosure_Data_FY15.csv'\n",
    "data2016='/Users/gauravhasija/Desktop/INST737_DATASETS/DataCsv/H-1B_Disclosure_Data_FY16.csv'\n",
    "data2017='/Users/gauravhasija/Desktop/INST737_DATASETS/DataCsv/H-1B_Disclosure_Data_FY17.csv'\n",
    "data2018='/Users/gauravhasija/Desktop/INST737_DATASETS/DataCsv/H-1B_Disclosure_Data_FY2018_EOY.csv'\n",
    "data2019='/Users/gauravhasija/Desktop/INST737_DATASETS/DataCsv/H-1B_Disclosure_Data_FY2019.csv'\n",
    "\n",
    "#Converting all dataset to pandas dataframe for quicker and efficient manupulations.\n",
    "\n",
    "dfData2015=pd.read_csv(data2015)\n",
    "dfData2016=pd.read_csv(data2016)\n",
    "dfData2017=pd.read_csv(data2017)\n",
    "dfData2018=pd.read_csv(data2018)\n",
    "dfData2019=pd.read_csv(data2019)"
   ]
  },
  {
   "cell_type": "code",
   "execution_count": 43,
   "metadata": {},
   "outputs": [],
   "source": [
    "#As number of common columns accross annual data vary, we have to re-align the columns to a set of column which will be standard across all years\n",
    "set(list(dfData2015.columns)).intersection(set(list(dfData2016.columns)),set(list(dfData2017.columns)),set(list(dfData2018.columns)),set(list(dfData2019.columns)))\n",
    "\n",
    "\n"
   ]
  },
  {
   "cell_type": "code",
   "execution_count": 4,
   "metadata": {},
   "outputs": [],
   "source": [
    "#Renaming the columns to create a standard data set.\n",
    "dfData2015=dfData2015.rename(columns={\"EMPLOYER_ADDRESS1\": \"EMPLOYER_ADDRESS\"})\n",
    "dfData2015=dfData2015.rename(columns={\"TOTAL WORKERS\": \"TOTAL_WORKERS\"})\n",
    "dfData2015=dfData2015.rename(columns={\"WILLFUL VIOLATOR\": \"WILLFUL_VIOLATOR\"})\n"
   ]
  },
  {
   "cell_type": "code",
   "execution_count": 36,
   "metadata": {},
   "outputs": [],
   "source": [
    "#Renaming the columns to create a standard data set.\n",
    "dfData2016=dfData2016.rename(columns={\"PW_SOURCE_OTHER\": \"PW_WAGE_SOURCE_OTHER\"})\n",
    "dfData2016=dfData2016.rename(columns={\"PW_SOURCE_YEAR\": \"PW_WAGE_SOURCE_YEAR\"})"
   ]
  },
  {
   "cell_type": "code",
   "execution_count": 6,
   "metadata": {},
   "outputs": [],
   "source": [
    "#Renaming the columns to create a standard data set.\n",
    "dfData2017=dfData2017.rename(columns={\"PW_SOURCE_OTHER\": \"PW_WAGE_SOURCE_OTHER\"})\n",
    "dfData2017=dfData2017.rename(columns={\"PW_SOURCE_YEAR\": \"PW_WAGE_SOURCE_YEAR\"})\n"
   ]
  },
  {
   "cell_type": "code",
   "execution_count": 7,
   "metadata": {},
   "outputs": [],
   "source": [
    "#Renaming the columns to create a standard data set.\n",
    "dfData2018=dfData2018.rename(columns={\"PW_SOURCE_OTHER\": \"PW_WAGE_SOURCE_OTHER\"})\n",
    "dfData2018=dfData2018.rename(columns={\"PW_SOURCE_YEAR\": \"PW_WAGE_SOURCE_YEAR\"})"
   ]
  },
  {
   "cell_type": "code",
   "execution_count": 8,
   "metadata": {},
   "outputs": [],
   "source": [
    "#Renaming the columns to create a standard data set.\n",
    "dfData2019=dfData2019.rename(columns={\"PW_SOURCE_OTHER\": \"PW_WAGE_SOURCE_OTHER\"})\n",
    "dfData2019=dfData2019.rename(columns={\"PW_SOURCE_YEAR\": \"PW_WAGE_SOURCE_YEAR\"})"
   ]
  },
  {
   "cell_type": "code",
   "execution_count": 9,
   "metadata": {},
   "outputs": [],
   "source": [
    "#Renaming the columns to create a standard data set.\n",
    "dfData2019=dfData2019.rename(columns={\"WORKSITE_CITY_1\": \"WORKSITE_CITY\"})\n",
    "dfData2019=dfData2019.rename(columns={\"WORKSITE_COUNTY_1\": \"WORKSITE_COUNTY\"})\n",
    "dfData2019=dfData2019.rename(columns={\"WORKSITE_POSTAL_CODE_1\": \"WORKSITE_POSTAL_CODE\"})\n",
    "dfData2019=dfData2019.rename(columns={\"WORKSITE_STATE_1\": \"WORKSITE_STATE\"})"
   ]
  },
  {
   "cell_type": "code",
   "execution_count": 10,
   "metadata": {},
   "outputs": [],
   "source": [
    "#Renaming the columns to create a standard data set.\n",
    "dfData2019=dfData2019.rename(columns={\"PW_SOURCE_OTHER\": \"PW_WAGE_SOURCE_OTHER\"})\n",
    "dfData2019=dfData2019.rename(columns={\"PW_SOURCE_YEAR\": \"PW_WAGE_SOURCE_YEAR\"})"
   ]
  },
  {
   "cell_type": "code",
   "execution_count": 11,
   "metadata": {},
   "outputs": [],
   "source": [
    "#Renaming the columns to create a standard data set.\n",
    "dfData2019=dfData2019.rename(columns={\"EMPLOYER_ADDRESS1\": \"EMPLOYER_ADDRESS\"})\n"
   ]
  },
  {
   "cell_type": "code",
   "execution_count": 12,
   "metadata": {},
   "outputs": [],
   "source": [
    "#Renaming the columns to create a standard data set.\n",
    "dfData2019=dfData2019.rename(columns={\"PREVAILING_WAGE_1\": \"PREVAILING_WAGE\"})"
   ]
  },
  {
   "cell_type": "code",
   "execution_count": 13,
   "metadata": {},
   "outputs": [],
   "source": [
    "#Renaming the columns to create a standard data set.\n",
    "dfData2019=dfData2019.rename(columns={\"TOTAL_WORKER_POSITIONS\": \"TOTAL_WORKERS\"})\n",
    "dfData2019=dfData2019.rename(columns={\"AGENT_ATTORNEY_LAW_FIRM_BUSINESS_NAME\": \"AGENT_ATTORNEY_NAME\"})\n",
    "dfData2019=dfData2019.rename(columns={\"SOC_TITLE\": \"SOC_NAME\"})\n",
    "dfData2019=dfData2019.rename(columns={\"WAGE_RATE_OF_PAY_TO_1\": \"WAGE_RATE_OF_PAY_TO\"})\n",
    "dfData2019=dfData2019.rename(columns={\"WAGE_RATE_OF_PAY_FROM_1\": \"WAGE_RATE_OF_PAY_FROM\"})\n"
   ]
  },
  {
   "cell_type": "code",
   "execution_count": 14,
   "metadata": {},
   "outputs": [],
   "source": [
    "#Renaming the columns to create a standard data set.\n",
    "dfData2015=dfData2015.rename(columns={\"WAGE_RATE_OF_PAY\": \"WAGE_RATE_OF_PAY_TO\"})\n"
   ]
  },
  {
   "cell_type": "code",
   "execution_count": 15,
   "metadata": {},
   "outputs": [
    {
     "data": {
      "text/plain": [
       "{'AGENT_REPRESENTING_EMPLOYER',\n",
       " 'AMENDED_PETITION',\n",
       " 'CHANGE_EMPLOYER',\n",
       " 'CHANGE_PREVIOUS_EMPLOYMENT',\n",
       " 'CONTINUED_EMPLOYMENT',\n",
       " 'EMPLOYER_BUSINESS_DBA',\n",
       " 'H1B_DEPENDENT',\n",
       " 'LABOR_CON_AGREE',\n",
       " 'NAICS_CODE',\n",
       " 'NEW_CONCURRENT_EMPLOYMENT',\n",
       " 'NEW_EMPLOYMENT',\n",
       " 'ORIGINAL_CERT_DATE',\n",
       " 'PUBLIC_DISCLOSURE_LOCATION',\n",
       " 'PW_SOURCE',\n",
       " 'SUPPORT_H1B',\n",
       " 'WAGE_RATE_OF_PAY_FROM'}"
      ]
     },
     "execution_count": 15,
     "metadata": {},
     "output_type": "execute_result"
    }
   ],
   "source": [
    "# To observe the list difference in yearly data sets, we take all the columns in set and compare various years.\n",
    "set(list(dfData2017.columns)).difference(set(list(dfData2015.columns)))"
   ]
  },
  {
   "cell_type": "code",
   "execution_count": 44,
   "metadata": {},
   "outputs": [],
   "source": [
    "# To observe the list difference in yearly data sets, we take all the columns in set and compare various years.\n",
    "#set(list(dfData2017.columns)).difference(set(list(dfData2015.columns))) "
   ]
  },
  {
   "cell_type": "code",
   "execution_count": 42,
   "metadata": {},
   "outputs": [],
   "source": [
    "# To observe the list difference in yearly data sets, we take all the columns in set and compare various years.\n",
    "set(list(dfData2018.columns)).difference(set(list(dfData2015.columns))) "
   ]
  },
  {
   "cell_type": "code",
   "execution_count": 45,
   "metadata": {},
   "outputs": [],
   "source": [
    "# To observe the list difference in yearly data sets, we take all the columns in set and compare various years.\n",
    "#set(list(dfData2015.columns)).difference(set(list(dfData2019.columns)))"
   ]
  },
  {
   "cell_type": "code",
   "execution_count": 18,
   "metadata": {},
   "outputs": [],
   "source": [
    "#Renaming the columns to create a standard data set.\n",
    "dfData2019=dfData2019.rename(columns={\"PERIOD_OF_EMPLOYMENT_END_DATE\": \"EMPLOYMENT_END_DATE\"})\n",
    "dfData2019=dfData2019.rename(columns={\"PERIOD_OF_EMPLOYMENT_START_DATE\": \"EMPLOYMENT_START_DATE\"})"
   ]
  },
  {
   "cell_type": "code",
   "execution_count": 19,
   "metadata": {},
   "outputs": [],
   "source": [
    "#Renaming the columns to create a standard data set.\n",
    "dfData2019=dfData2019.rename(columns={\"WAGE_UNIT_OF_PAY_1\": \"WAGE_UNIT_OF_PAY\"})#PW_UNIT_OF_PAY_1"
   ]
  },
  {
   "cell_type": "code",
   "execution_count": 20,
   "metadata": {},
   "outputs": [],
   "source": [
    "#Renaming the columns to create a standard data set.\n",
    "dfData2019=dfData2019.rename(columns={\"PW_UNIT_OF_PAY_1\": \"PW_UNIT_OF_PAY\"})"
   ]
  },
  {
   "cell_type": "code",
   "execution_count": 21,
   "metadata": {},
   "outputs": [],
   "source": [
    "#Renaming the columns to create a standard data set.\n",
    "dfData2019=dfData2019.rename(columns={\"PW_OTHER_SOURCE_1\": \"PW_WAGE_SOURCE_OTHER\"})"
   ]
  },
  {
   "cell_type": "code",
   "execution_count": 22,
   "metadata": {},
   "outputs": [],
   "source": [
    "#Renaming the columns to create a standard data set.\n",
    "dfData2018=dfData2018.rename(columns={\"PW_SOURCE\": \"PW_WAGE_SOURCE\"}) #PW_WAGE_SOURCE PW_SOURCE"
   ]
  },
  {
   "cell_type": "code",
   "execution_count": null,
   "metadata": {},
   "outputs": [],
   "source": [
    "#Renaming the columns to create a standard data set.\n",
    "\n",
    "dfData2017=dfData2017.rename(columns={\"PW_SOURCE\": \"PW_WAGE_SOURCE\"}) #PW_WAGE_SOURCE PW_SOURCE"
   ]
  },
  {
   "cell_type": "code",
   "execution_count": 16,
   "metadata": {},
   "outputs": [],
   "source": [
    "#Dropping additional columns from all the yearly data set.\n",
    "dfData2017=dfData2017.drop(columns=['AGENT_REPRESENTING_EMPLOYER',\n",
    " 'AMENDED_PETITION',\n",
    " 'CHANGE_EMPLOYER',\n",
    " 'CHANGE_PREVIOUS_EMPLOYMENT',\n",
    " 'CONTINUED_EMPLOYMENT',\n",
    " 'EMPLOYER_BUSINESS_DBA',\n",
    " 'LABOR_CON_AGREE',\n",
    " 'NEW_CONCURRENT_EMPLOYMENT',\n",
    " 'NEW_EMPLOYMENT',\n",
    " 'ORIGINAL_CERT_DATE',\n",
    " 'PUBLIC_DISCLOSURE_LOCATION'])"
   ]
  },
  {
   "cell_type": "code",
   "execution_count": 17,
   "metadata": {},
   "outputs": [],
   "source": [
    "#Dropping additional columns from all the yearly data set.\n",
    "dfData2018=dfData2018.drop(columns=['AGENT_REPRESENTING_EMPLOYER',\n",
    " 'AMENDED_PETITION',\n",
    " 'CHANGE_EMPLOYER',\n",
    " 'CHANGE_PREVIOUS_EMPLOYMENT',\n",
    " 'CONTINUED_EMPLOYMENT',\n",
    " 'EMPLOYER_BUSINESS_DBA',\n",
    " 'LABOR_CON_AGREE',\n",
    " 'NEW_CONCURRENT_EMP',\n",
    " 'NEW_EMPLOYMENT',\n",
    " 'ORIGINAL_CERT_DATE',\n",
    " 'PUBLIC_DISCLOSURE_LOCATION'])"
   ]
  },
  {
   "cell_type": "code",
   "execution_count": null,
   "metadata": {},
   "outputs": [],
   "source": [
    "#Dropping additional columns from all the yearly data set.\n",
    "dfData2019=dfData2019.drop(columns=['AGENT_ATTORNEY_ADDRESS1',\n",
    " 'AGENT_ATTORNEY_ADDRESS2',\n",
    " 'AGENT_REPRESENTING_EMPLOYER',\n",
    " 'AMENDED_PETITION',\n",
    " 'CHANGE_EMPLOYER',\n",
    " 'CHANGE_PREVIOUS_EMPLOYMENT',\n",
    " 'CONTINUED_EMPLOYMENT',\n",
    " 'EMPLOYER_BUSINESS_DBA',\n",
    " 'MASTERS_EXEMPTION',\n",
    " 'NAME_OF_HIGHEST_STATE_COURT',\n",
    " 'NEW_CONCURRENT_EMPLOYMENT',\n",
    " 'NEW_EMPLOYMENT',\n",
    " 'ORIGINAL_CERT_DATE',\n",
    " 'PREVAILING_WAGE_10',\n",
    " 'PREVAILING_WAGE_3',\n",
    " 'PREVAILING_WAGE_4',\n",
    " 'PREVAILING_WAGE_5',\n",
    " 'PREVAILING_WAGE_6',\n",
    " 'PREVAILING_WAGE_7',\n",
    " 'PREVAILING_WAGE_8',\n",
    " 'PREVAILING_WAGE_9',\n",
    " 'PW_NON-OES_YEAR_10',\n",
    " 'PW_NON-OES_YEAR_2',\n",
    " 'PW_NON-OES_YEAR_3',\n",
    " 'PW_NON-OES_YEAR_4',\n",
    " 'PW_NON-OES_YEAR_5',\n",
    " 'PW_NON-OES_YEAR_6',\n",
    " 'PW_NON-OES_YEAR_7',\n",
    " 'PW_NON-OES_YEAR_8',\n",
    " 'PW_NON-OES_YEAR_9',\n",
    " 'PW_OES_YEAR_10',\n",
    " 'PW_OES_YEAR_2',\n",
    " 'PW_OES_YEAR_3',\n",
    " 'PW_OES_YEAR_4',\n",
    " 'PW_OES_YEAR_5',\n",
    " 'PW_OES_YEAR_6',\n",
    " 'PW_OES_YEAR_7',\n",
    " 'PW_OES_YEAR_8',\n",
    " 'PW_OES_YEAR_9',\n",
    " 'PW_OTHER_SOURCE_10',\n",
    " 'PW_OTHER_SOURCE_2',\n",
    " 'PW_OTHER_SOURCE_3',\n",
    " 'PW_OTHER_SOURCE_4',\n",
    " 'PW_OTHER_SOURCE_5',\n",
    " 'PW_OTHER_SOURCE_6',\n",
    " 'PW_OTHER_SOURCE_7',\n",
    " 'PW_OTHER_SOURCE_8',\n",
    " 'PW_OTHER_SOURCE_9',\n",
    " 'PW_SURVEY_NAME_10',\n",
    " 'PW_SURVEY_NAME_2',\n",
    " 'PW_SURVEY_NAME_3',\n",
    " 'PW_SURVEY_NAME_4',\n",
    " 'PW_SURVEY_NAME_5',\n",
    " 'PW_SURVEY_NAME_6',\n",
    " 'PW_SURVEY_NAME_7',\n",
    " 'PW_SURVEY_NAME_8',\n",
    " 'PW_SURVEY_NAME_9',\n",
    " 'PW_SURVEY_PUBLISHER_1',\n",
    " 'PW_SURVEY_PUBLISHER_10',\n",
    " 'PW_SURVEY_PUBLISHER_2',\n",
    " 'PW_SURVEY_PUBLISHER_3',\n",
    " 'PW_SURVEY_PUBLISHER_4',\n",
    " 'PW_SURVEY_PUBLISHER_5',\n",
    " 'PW_SURVEY_PUBLISHER_6',\n",
    " 'PW_SURVEY_PUBLISHER_7',\n",
    " 'PW_SURVEY_PUBLISHER_8',\n",
    " 'PW_SURVEY_PUBLISHER_9',\n",
    " 'PW_TRACKING_NUMBER_1',\n",
    " 'PW_TRACKING_NUMBER_10',\n",
    " 'PW_TRACKING_NUMBER_2',\n",
    " 'PW_TRACKING_NUMBER_3',\n",
    " 'PW_TRACKING_NUMBER_4',\n",
    " 'PW_TRACKING_NUMBER_5',\n",
    " 'PW_TRACKING_NUMBER_6',\n",
    " 'PW_TRACKING_NUMBER_7',\n",
    " 'PW_TRACKING_NUMBER_8',\n",
    " 'PW_TRACKING_NUMBER_9',\n",
    " 'PW_UNIT_OF_PAY_10',\n",
    " 'PW_UNIT_OF_PAY_2',\n",
    " 'PW_UNIT_OF_PAY_3',\n",
    " 'PW_UNIT_OF_PAY_4',\n",
    " 'PW_UNIT_OF_PAY_5',\n",
    " 'PW_UNIT_OF_PAY_6',\n",
    " 'PW_UNIT_OF_PAY_7',\n",
    " 'PW_UNIT_OF_PAY_8',\n",
    " 'PW_UNIT_OF_PAY_9',\n",
    " 'PW_WAGE_LEVEL_10',\n",
    " 'PW_WAGE_LEVEL_2',\n",
    " 'PW_WAGE_LEVEL_3',\n",
    " 'PW_WAGE_LEVEL_4',\n",
    " 'PW_WAGE_LEVEL_5',\n",
    " 'PW_WAGE_LEVEL_6',\n",
    " 'PW_WAGE_LEVEL_7',\n",
    " 'PW_WAGE_LEVEL_8',\n",
    " 'PW_WAGE_LEVEL_9',\n",
    " 'SECONDARY_ENTITY_1',\n",
    " 'SECONDARY_ENTITY_10',\n",
    " 'SECONDARY_ENTITY_2',\n",
    " 'SECONDARY_ENTITY_3',\n",
    " 'SECONDARY_ENTITY_4',\n",
    " 'SECONDARY_ENTITY_5',\n",
    " 'SECONDARY_ENTITY_6',\n",
    " 'SECONDARY_ENTITY_7',\n",
    " 'SECONDARY_ENTITY_8',\n",
    " 'SECONDARY_ENTITY_9',\n",
    " 'SECONDARY_ENTITY_BUSINESS_NAME_1',\n",
    " 'SECONDARY_ENTITY_BUSINESS_NAME_10',\n",
    " 'SECONDARY_ENTITY_BUSINESS_NAME_2',\n",
    " 'SECONDARY_ENTITY_BUSINESS_NAME_3',\n",
    " 'SECONDARY_ENTITY_BUSINESS_NAME_4',\n",
    " 'SECONDARY_ENTITY_BUSINESS_NAME_5',\n",
    " 'SECONDARY_ENTITY_BUSINESS_NAME_6',\n",
    " 'SECONDARY_ENTITY_BUSINESS_NAME_7',\n",
    " 'SECONDARY_ENTITY_BUSINESS_NAME_8',\n",
    " 'SECONDARY_ENTITY_BUSINESS_NAME_9',\n",
    " 'STATE_OF_HIGHEST_COURT',\n",
    " 'STATUTORY_BASIS',\n",
    " 'WAGE_RATE_OF_PAY_FROM_10',\n",
    " 'WAGE_RATE_OF_PAY_FROM_2',\n",
    " 'WAGE_RATE_OF_PAY_FROM_3',\n",
    " 'WAGE_RATE_OF_PAY_FROM_4',\n",
    " 'WAGE_RATE_OF_PAY_FROM_5',\n",
    " 'WAGE_RATE_OF_PAY_FROM_6',\n",
    " 'WAGE_RATE_OF_PAY_FROM_7',\n",
    " 'WAGE_RATE_OF_PAY_FROM_8',\n",
    " 'WAGE_RATE_OF_PAY_FROM_9',\n",
    " 'WAGE_RATE_OF_PAY_TO_10',\n",
    " 'WAGE_RATE_OF_PAY_TO_3',\n",
    " 'WAGE_RATE_OF_PAY_TO_4',\n",
    " 'WAGE_RATE_OF_PAY_TO_5',\n",
    " 'WAGE_RATE_OF_PAY_TO_6',\n",
    " 'WAGE_RATE_OF_PAY_TO_7',\n",
    " 'WAGE_RATE_OF_PAY_TO_8',\n",
    " 'WAGE_RATE_OF_PAY_TO_9',\n",
    " 'WAGE_UNIT_OF_PAY_10',\n",
    " 'WAGE_UNIT_OF_PAY_3',\n",
    " 'WAGE_UNIT_OF_PAY_4',\n",
    " 'WAGE_UNIT_OF_PAY_5',\n",
    " 'WAGE_UNIT_OF_PAY_6',\n",
    " 'WAGE_UNIT_OF_PAY_7',\n",
    " 'WAGE_UNIT_OF_PAY_8',\n",
    " 'WAGE_UNIT_OF_PAY_9',\n",
    " 'WORKSITE_ADDRESS2_1',\n",
    " 'WORKSITE_ADDRESS2_10',\n",
    " 'WORKSITE_ADDRESS2_2',\n",
    " 'WORKSITE_ADDRESS2_3',\n",
    " 'WORKSITE_ADDRESS2_4',\n",
    " 'WORKSITE_ADDRESS2_5',\n",
    " 'WORKSITE_ADDRESS2_6',\n",
    " 'WORKSITE_ADDRESS2_7',\n",
    " 'WORKSITE_ADDRESS2_8',\n",
    " 'WORKSITE_ADDRESS2_9',\n",
    " 'WORKSITE_CITY_10',\n",
    " 'WORKSITE_CITY_2',\n",
    " 'WORKSITE_CITY_3',\n",
    " 'WORKSITE_CITY_4',\n",
    " 'WORKSITE_CITY_5',\n",
    " 'WORKSITE_CITY_6',\n",
    " 'WORKSITE_CITY_7',\n",
    " 'WORKSITE_CITY_8',\n",
    " 'WORKSITE_CITY_9',\n",
    " 'WORKSITE_COUNTY_10',\n",
    " 'WORKSITE_COUNTY_2',\n",
    " 'WORKSITE_COUNTY_3',\n",
    " 'WORKSITE_COUNTY_4',\n",
    " 'WORKSITE_COUNTY_5',\n",
    " 'WORKSITE_COUNTY_6',\n",
    " 'WORKSITE_COUNTY_7',\n",
    " 'WORKSITE_COUNTY_8',\n",
    " 'WORKSITE_COUNTY_9',\n",
    " 'WORKSITE_POSTAL_CODE_10',\n",
    " 'WORKSITE_POSTAL_CODE_2',\n",
    " 'WORKSITE_POSTAL_CODE_3',\n",
    " 'WORKSITE_POSTAL_CODE_4',\n",
    " 'WORKSITE_POSTAL_CODE_5',\n",
    " 'WORKSITE_POSTAL_CODE_6',\n",
    " 'WORKSITE_POSTAL_CODE_7',\n",
    " 'WORKSITE_POSTAL_CODE_8',\n",
    " 'WORKSITE_POSTAL_CODE_9',\n",
    " 'WORKSITE_STATE_10',\n",
    " 'WORKSITE_STATE_2',\n",
    " 'WORKSITE_STATE_3',\n",
    " 'WORKSITE_STATE_4',\n",
    " 'WORKSITE_STATE_5',\n",
    " 'WORKSITE_STATE_6',\n",
    " 'WORKSITE_STATE_7',\n",
    " 'WORKSITE_STATE_8',\n",
    " 'WORKSITE_STATE_9',\n",
    " 'WORKSITE_WORKERS_10',\n",
    " 'WORKSITE_WORKERS_2',\n",
    " 'WORKSITE_WORKERS_3',\n",
    " 'WORKSITE_WORKERS_4',\n",
    " 'WORKSITE_WORKERS_5',\n",
    " 'WORKSITE_WORKERS_6',\n",
    " 'WORKSITE_WORKERS_7',\n",
    " 'WORKSITE_WORKERS_8',\n",
    " 'WORKSITE_WORKERS_9'])\n"
   ]
  },
  {
   "cell_type": "code",
   "execution_count": 25,
   "metadata": {},
   "outputs": [],
   "source": [
    "#Dropping additional columns from all the yearly data set.\n",
    "dfData2019=dfData2019.drop(columns=['WAGE_RATE_OF_PAY_TO_2',\n",
    " 'WAGE_UNIT_OF_PAY_1',\n",
    " 'WAGE_UNIT_OF_PAY_2',\n",
    " 'WORKSITE_ADDRESS1_1',\n",
    " 'WORKSITE_ADDRESS1_10',\n",
    " 'WORKSITE_ADDRESS1_2',\n",
    " 'WORKSITE_ADDRESS1_3',\n",
    " 'WORKSITE_ADDRESS1_4',\n",
    " 'WORKSITE_ADDRESS1_5',\n",
    " 'WORKSITE_ADDRESS1_6',\n",
    " 'WORKSITE_ADDRESS1_7',\n",
    " 'WORKSITE_ADDRESS1_8',\n",
    " 'WORKSITE_ADDRESS1_9',\n",
    " 'WORKSITE_WORKERS_1'])"
   ]
  },
  {
   "cell_type": "code",
   "execution_count": 27,
   "metadata": {},
   "outputs": [],
   "source": [
    "#Dropping additional columns from all the yearly data set.\n",
    "dfData2019=dfData2019.drop(columns=['PREVAILING_WAGE_2',\n",
    " 'PUBLIC_DISCLOSURE',\n",
    " 'PW_NON-OES_YEAR_1',\n",
    " 'PW_OES_YEAR_1',\n",
    " 'PW_OTHER_SOURCE_1',\n",
    " 'PW_SURVEY_NAME_1',\n",
    " 'PW_UNIT_OF_PAY_1',\n",
    " 'PW_WAGE_LEVEL_1'])"
   ]
  },
  {
   "cell_type": "code",
   "execution_count": 40,
   "metadata": {},
   "outputs": [],
   "source": [
    "#After all the data wrangling we create csv of the transformed data frames.\n",
    "\n",
    "dfData2015.to_csv('/Users/gauravhasija/Desktop/INST737_DATASETS/DataCSV/DataCsvClean/2015.csv', encoding='utf-8')\n",
    "dfData2016.to_csv('/Users/gauravhasija/Desktop/INST737_DATASETS/DataCSV/DataCsvClean/2016.csv', encoding='utf-8')\n",
    "dfData2017.to_csv('/Users/gauravhasija/Desktop/INST737_DATASETS/DataCSV/DataCsvClean/2017.csv', encoding='utf-8')\n",
    "dfData2018.to_csv('/Users/gauravhasija/Desktop/INST737_DATASETS/DataCSV/DataCsvClean/2018.csv', encoding='utf-8')\n",
    "dfData2019.to_csv('/Users/gauravhasija/Desktop/INST737_DATASETS/DataCSV/DataCsvClean/2019.csv', encoding='utf-8')"
   ]
  },
  {
   "cell_type": "code",
   "execution_count": null,
   "metadata": {},
   "outputs": [],
   "source": []
  }
 ],
 "metadata": {
  "kernelspec": {
   "display_name": "Python 3",
   "language": "python",
   "name": "python3"
  },
  "language_info": {
   "codemirror_mode": {
    "name": "ipython",
    "version": 3
   },
   "file_extension": ".py",
   "mimetype": "text/x-python",
   "name": "python",
   "nbconvert_exporter": "python",
   "pygments_lexer": "ipython3",
   "version": "3.7.4"
  }
 },
 "nbformat": 4,
 "nbformat_minor": 2
}
