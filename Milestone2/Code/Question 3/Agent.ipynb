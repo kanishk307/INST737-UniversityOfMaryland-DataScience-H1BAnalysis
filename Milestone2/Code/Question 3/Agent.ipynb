{
 "cells": [
  {
   "cell_type": "code",
   "execution_count": 371,
   "metadata": {},
   "outputs": [],
   "source": [
    "import numpy as np\n",
    "import pandas as pd\n",
    "import seaborn as sns\n",
    "import random"
   ]
  },
  {
   "cell_type": "code",
   "execution_count": 372,
   "metadata": {},
   "outputs": [],
   "source": [
    "csv_path = \"/Users/danishmir/desktop/737-project/Analysis/oneHot_withCATEGORY.csv\""
   ]
  },
  {
   "cell_type": "code",
   "execution_count": 373,
   "metadata": {},
   "outputs": [],
   "source": [
    "df=pd.read_csv(csv_path)"
   ]
  },
  {
   "cell_type": "code",
   "execution_count": 374,
   "metadata": {},
   "outputs": [
    {
     "data": {
      "text/plain": [
       "(961946, 14)"
      ]
     },
     "execution_count": 374,
     "metadata": {},
     "output_type": "execute_result"
    }
   ],
   "source": [
    "df.shape"
   ]
  },
  {
   "cell_type": "code",
   "execution_count": 375,
   "metadata": {},
   "outputs": [],
   "source": [
    "df=df.sample(frac=0.3, random_state=1)# creating random sample from df with 10% data entreis, this is to reduce computation as my machine is unable to handle the data"
   ]
  },
  {
   "cell_type": "code",
   "execution_count": 376,
   "metadata": {},
   "outputs": [
    {
     "data": {
      "text/plain": [
       "(288584, 14)"
      ]
     },
     "execution_count": 376,
     "metadata": {},
     "output_type": "execute_result"
    }
   ],
   "source": [
    "df.shape"
   ]
  },
  {
   "cell_type": "code",
   "execution_count": 377,
   "metadata": {},
   "outputs": [
    {
     "data": {
      "text/html": [
       "<div>\n",
       "<style scoped>\n",
       "    .dataframe tbody tr th:only-of-type {\n",
       "        vertical-align: middle;\n",
       "    }\n",
       "\n",
       "    .dataframe tbody tr th {\n",
       "        vertical-align: top;\n",
       "    }\n",
       "\n",
       "    .dataframe thead th {\n",
       "        text-align: right;\n",
       "    }\n",
       "</style>\n",
       "<table border=\"1\" class=\"dataframe\">\n",
       "  <thead>\n",
       "    <tr style=\"text-align: right;\">\n",
       "      <th></th>\n",
       "      <th>Unnamed: 0</th>\n",
       "      <th>X</th>\n",
       "      <th>DURATION</th>\n",
       "      <th>HOURLY_WAGE</th>\n",
       "      <th>WAGE_RATE_OF_PAY_FROM_HOUR</th>\n",
       "      <th>WILLFUL_VIOLATOR</th>\n",
       "      <th>OCCUPATION</th>\n",
       "      <th>AGENT_PRESENT_0.0</th>\n",
       "      <th>AGENT_PRESENT_1.0</th>\n",
       "      <th>CASE_STATUS_0.0</th>\n",
       "      <th>CASE_STATUS_1.0</th>\n",
       "      <th>WAGE_RATE_OF_PAY_FROM_HOUR_RANGE</th>\n",
       "      <th>DURATION_RANGE</th>\n",
       "      <th>HOURLY_WAGE_RANGE</th>\n",
       "    </tr>\n",
       "  </thead>\n",
       "  <tbody>\n",
       "    <tr>\n",
       "      <th>759346</th>\n",
       "      <td>759347</td>\n",
       "      <td>759346</td>\n",
       "      <td>6</td>\n",
       "      <td>47.4</td>\n",
       "      <td>47.40</td>\n",
       "      <td>4</td>\n",
       "      <td>computer occupations</td>\n",
       "      <td>1</td>\n",
       "      <td>0</td>\n",
       "      <td>0</td>\n",
       "      <td>1</td>\n",
       "      <td>(40,50]</td>\n",
       "      <td>(0,10]</td>\n",
       "      <td>(40,50]</td>\n",
       "    </tr>\n",
       "    <tr>\n",
       "      <th>356932</th>\n",
       "      <td>356933</td>\n",
       "      <td>356932</td>\n",
       "      <td>6</td>\n",
       "      <td>20.9</td>\n",
       "      <td>20.94</td>\n",
       "      <td>35</td>\n",
       "      <td>Others</td>\n",
       "      <td>1</td>\n",
       "      <td>0</td>\n",
       "      <td>0</td>\n",
       "      <td>1</td>\n",
       "      <td>(20,30]</td>\n",
       "      <td>(0,10]</td>\n",
       "      <td>(20,30]</td>\n",
       "    </tr>\n",
       "    <tr>\n",
       "      <th>620091</th>\n",
       "      <td>620092</td>\n",
       "      <td>620091</td>\n",
       "      <td>4</td>\n",
       "      <td>35.7</td>\n",
       "      <td>36.60</td>\n",
       "      <td>9</td>\n",
       "      <td>Financial Occupation</td>\n",
       "      <td>0</td>\n",
       "      <td>1</td>\n",
       "      <td>0</td>\n",
       "      <td>1</td>\n",
       "      <td>(30,40]</td>\n",
       "      <td>(0,10]</td>\n",
       "      <td>(30,40]</td>\n",
       "    </tr>\n",
       "    <tr>\n",
       "      <th>663836</th>\n",
       "      <td>663837</td>\n",
       "      <td>663836</td>\n",
       "      <td>7</td>\n",
       "      <td>30.6</td>\n",
       "      <td>34.10</td>\n",
       "      <td>49</td>\n",
       "      <td>computer occupations</td>\n",
       "      <td>1</td>\n",
       "      <td>0</td>\n",
       "      <td>0</td>\n",
       "      <td>1</td>\n",
       "      <td>(30,40]</td>\n",
       "      <td>(0,10]</td>\n",
       "      <td>(30,40]</td>\n",
       "    </tr>\n",
       "    <tr>\n",
       "      <th>257533</th>\n",
       "      <td>257534</td>\n",
       "      <td>257533</td>\n",
       "      <td>6</td>\n",
       "      <td>33.9</td>\n",
       "      <td>34.40</td>\n",
       "      <td>35</td>\n",
       "      <td>computer occupations</td>\n",
       "      <td>0</td>\n",
       "      <td>1</td>\n",
       "      <td>0</td>\n",
       "      <td>1</td>\n",
       "      <td>(30,40]</td>\n",
       "      <td>(0,10]</td>\n",
       "      <td>(30,40]</td>\n",
       "    </tr>\n",
       "  </tbody>\n",
       "</table>\n",
       "</div>"
      ],
      "text/plain": [
       "        Unnamed: 0       X  DURATION  HOURLY_WAGE  WAGE_RATE_OF_PAY_FROM_HOUR  \\\n",
       "759346      759347  759346         6         47.4                       47.40   \n",
       "356932      356933  356932         6         20.9                       20.94   \n",
       "620091      620092  620091         4         35.7                       36.60   \n",
       "663836      663837  663836         7         30.6                       34.10   \n",
       "257533      257534  257533         6         33.9                       34.40   \n",
       "\n",
       "        WILLFUL_VIOLATOR            OCCUPATION  AGENT_PRESENT_0.0  \\\n",
       "759346                 4  computer occupations                  1   \n",
       "356932                35                Others                  1   \n",
       "620091                 9  Financial Occupation                  0   \n",
       "663836                49  computer occupations                  1   \n",
       "257533                35  computer occupations                  0   \n",
       "\n",
       "        AGENT_PRESENT_1.0  CASE_STATUS_0.0  CASE_STATUS_1.0  \\\n",
       "759346                  0                0                1   \n",
       "356932                  0                0                1   \n",
       "620091                  1                0                1   \n",
       "663836                  0                0                1   \n",
       "257533                  1                0                1   \n",
       "\n",
       "       WAGE_RATE_OF_PAY_FROM_HOUR_RANGE DURATION_RANGE HOURLY_WAGE_RANGE  \n",
       "759346                          (40,50]         (0,10]           (40,50]  \n",
       "356932                          (20,30]         (0,10]           (20,30]  \n",
       "620091                          (30,40]         (0,10]           (30,40]  \n",
       "663836                          (30,40]         (0,10]           (30,40]  \n",
       "257533                          (30,40]         (0,10]           (30,40]  "
      ]
     },
     "execution_count": 377,
     "metadata": {},
     "output_type": "execute_result"
    }
   ],
   "source": [
    "df.head(5)"
   ]
  },
  {
   "cell_type": "code",
   "execution_count": 378,
   "metadata": {},
   "outputs": [],
   "source": [
    "df['AGENT_PRESENT_0.0'].replace(0, \"Absent\", inplace=True)#un-encode AGENT_PRESENT"
   ]
  },
  {
   "cell_type": "code",
   "execution_count": 379,
   "metadata": {},
   "outputs": [],
   "source": [
    "df[\"AGENT_PRESENT_0.0\"].replace(1, \"Present\", inplace=True)#un-encode AGENT_PRESENT"
   ]
  },
  {
   "cell_type": "code",
   "execution_count": 380,
   "metadata": {},
   "outputs": [
    {
     "data": {
      "text/html": [
       "<div>\n",
       "<style scoped>\n",
       "    .dataframe tbody tr th:only-of-type {\n",
       "        vertical-align: middle;\n",
       "    }\n",
       "\n",
       "    .dataframe tbody tr th {\n",
       "        vertical-align: top;\n",
       "    }\n",
       "\n",
       "    .dataframe thead th {\n",
       "        text-align: right;\n",
       "    }\n",
       "</style>\n",
       "<table border=\"1\" class=\"dataframe\">\n",
       "  <thead>\n",
       "    <tr style=\"text-align: right;\">\n",
       "      <th></th>\n",
       "      <th>Unnamed: 0</th>\n",
       "      <th>X</th>\n",
       "      <th>DURATION</th>\n",
       "      <th>HOURLY_WAGE</th>\n",
       "      <th>WAGE_RATE_OF_PAY_FROM_HOUR</th>\n",
       "      <th>WILLFUL_VIOLATOR</th>\n",
       "      <th>OCCUPATION</th>\n",
       "      <th>AGENT_PRESENT_0.0</th>\n",
       "      <th>AGENT_PRESENT_1.0</th>\n",
       "      <th>CASE_STATUS_0.0</th>\n",
       "      <th>CASE_STATUS_1.0</th>\n",
       "      <th>WAGE_RATE_OF_PAY_FROM_HOUR_RANGE</th>\n",
       "      <th>DURATION_RANGE</th>\n",
       "      <th>HOURLY_WAGE_RANGE</th>\n",
       "    </tr>\n",
       "  </thead>\n",
       "  <tbody>\n",
       "    <tr>\n",
       "      <th>759346</th>\n",
       "      <td>759347</td>\n",
       "      <td>759346</td>\n",
       "      <td>6</td>\n",
       "      <td>47.4</td>\n",
       "      <td>47.40</td>\n",
       "      <td>4</td>\n",
       "      <td>computer occupations</td>\n",
       "      <td>Present</td>\n",
       "      <td>0</td>\n",
       "      <td>0</td>\n",
       "      <td>1</td>\n",
       "      <td>(40,50]</td>\n",
       "      <td>(0,10]</td>\n",
       "      <td>(40,50]</td>\n",
       "    </tr>\n",
       "    <tr>\n",
       "      <th>356932</th>\n",
       "      <td>356933</td>\n",
       "      <td>356932</td>\n",
       "      <td>6</td>\n",
       "      <td>20.9</td>\n",
       "      <td>20.94</td>\n",
       "      <td>35</td>\n",
       "      <td>Others</td>\n",
       "      <td>Present</td>\n",
       "      <td>0</td>\n",
       "      <td>0</td>\n",
       "      <td>1</td>\n",
       "      <td>(20,30]</td>\n",
       "      <td>(0,10]</td>\n",
       "      <td>(20,30]</td>\n",
       "    </tr>\n",
       "    <tr>\n",
       "      <th>620091</th>\n",
       "      <td>620092</td>\n",
       "      <td>620091</td>\n",
       "      <td>4</td>\n",
       "      <td>35.7</td>\n",
       "      <td>36.60</td>\n",
       "      <td>9</td>\n",
       "      <td>Financial Occupation</td>\n",
       "      <td>Absent</td>\n",
       "      <td>1</td>\n",
       "      <td>0</td>\n",
       "      <td>1</td>\n",
       "      <td>(30,40]</td>\n",
       "      <td>(0,10]</td>\n",
       "      <td>(30,40]</td>\n",
       "    </tr>\n",
       "    <tr>\n",
       "      <th>663836</th>\n",
       "      <td>663837</td>\n",
       "      <td>663836</td>\n",
       "      <td>7</td>\n",
       "      <td>30.6</td>\n",
       "      <td>34.10</td>\n",
       "      <td>49</td>\n",
       "      <td>computer occupations</td>\n",
       "      <td>Present</td>\n",
       "      <td>0</td>\n",
       "      <td>0</td>\n",
       "      <td>1</td>\n",
       "      <td>(30,40]</td>\n",
       "      <td>(0,10]</td>\n",
       "      <td>(30,40]</td>\n",
       "    </tr>\n",
       "    <tr>\n",
       "      <th>257533</th>\n",
       "      <td>257534</td>\n",
       "      <td>257533</td>\n",
       "      <td>6</td>\n",
       "      <td>33.9</td>\n",
       "      <td>34.40</td>\n",
       "      <td>35</td>\n",
       "      <td>computer occupations</td>\n",
       "      <td>Absent</td>\n",
       "      <td>1</td>\n",
       "      <td>0</td>\n",
       "      <td>1</td>\n",
       "      <td>(30,40]</td>\n",
       "      <td>(0,10]</td>\n",
       "      <td>(30,40]</td>\n",
       "    </tr>\n",
       "  </tbody>\n",
       "</table>\n",
       "</div>"
      ],
      "text/plain": [
       "        Unnamed: 0       X  DURATION  HOURLY_WAGE  WAGE_RATE_OF_PAY_FROM_HOUR  \\\n",
       "759346      759347  759346         6         47.4                       47.40   \n",
       "356932      356933  356932         6         20.9                       20.94   \n",
       "620091      620092  620091         4         35.7                       36.60   \n",
       "663836      663837  663836         7         30.6                       34.10   \n",
       "257533      257534  257533         6         33.9                       34.40   \n",
       "\n",
       "        WILLFUL_VIOLATOR            OCCUPATION AGENT_PRESENT_0.0  \\\n",
       "759346                 4  computer occupations           Present   \n",
       "356932                35                Others           Present   \n",
       "620091                 9  Financial Occupation            Absent   \n",
       "663836                49  computer occupations           Present   \n",
       "257533                35  computer occupations            Absent   \n",
       "\n",
       "        AGENT_PRESENT_1.0  CASE_STATUS_0.0  CASE_STATUS_1.0  \\\n",
       "759346                  0                0                1   \n",
       "356932                  0                0                1   \n",
       "620091                  1                0                1   \n",
       "663836                  0                0                1   \n",
       "257533                  1                0                1   \n",
       "\n",
       "       WAGE_RATE_OF_PAY_FROM_HOUR_RANGE DURATION_RANGE HOURLY_WAGE_RANGE  \n",
       "759346                          (40,50]         (0,10]           (40,50]  \n",
       "356932                          (20,30]         (0,10]           (20,30]  \n",
       "620091                          (30,40]         (0,10]           (30,40]  \n",
       "663836                          (30,40]         (0,10]           (30,40]  \n",
       "257533                          (30,40]         (0,10]           (30,40]  "
      ]
     },
     "execution_count": 380,
     "metadata": {},
     "output_type": "execute_result"
    }
   ],
   "source": [
    "df.head(5)"
   ]
  },
  {
   "cell_type": "code",
   "execution_count": 381,
   "metadata": {},
   "outputs": [],
   "source": [
    "#df['WORKSITE_STATE']=df['WORKSITE_STATE'].astype('category')"
   ]
  },
  {
   "cell_type": "code",
   "execution_count": 382,
   "metadata": {},
   "outputs": [],
   "source": [
    "#df['WILLFUL_VIOLATOR']=df['WILLFUL_VIOLATOR'].astype('category')"
   ]
  },
  {
   "cell_type": "code",
   "execution_count": 383,
   "metadata": {},
   "outputs": [],
   "source": [
    "#df['EMPLOYER_STATE']=df['EMPLOYER_STATE'].astype('category')"
   ]
  },
  {
   "cell_type": "code",
   "execution_count": 384,
   "metadata": {},
   "outputs": [],
   "source": [
    "#df['CASE_STATUS']=df['CASE_STATUS'].astype('category')"
   ]
  },
  {
   "cell_type": "code",
   "execution_count": 385,
   "metadata": {},
   "outputs": [],
   "source": [
    "#df['AGENT_PRESENT']=df['AGENT_PRESENT'].astype('category')"
   ]
  },
  {
   "cell_type": "code",
   "execution_count": 386,
   "metadata": {},
   "outputs": [
    {
     "data": {
      "text/plain": [
       "Unnamed: 0                            int64\n",
       "X                                     int64\n",
       "DURATION                              int64\n",
       "HOURLY_WAGE                         float64\n",
       "WAGE_RATE_OF_PAY_FROM_HOUR          float64\n",
       "WILLFUL_VIOLATOR                      int64\n",
       "OCCUPATION                           object\n",
       "AGENT_PRESENT_0.0                    object\n",
       "AGENT_PRESENT_1.0                     int64\n",
       "CASE_STATUS_0.0                       int64\n",
       "CASE_STATUS_1.0                       int64\n",
       "WAGE_RATE_OF_PAY_FROM_HOUR_RANGE     object\n",
       "DURATION_RANGE                       object\n",
       "HOURLY_WAGE_RANGE                    object\n",
       "dtype: object"
      ]
     },
     "execution_count": 386,
     "metadata": {},
     "output_type": "execute_result"
    }
   ],
   "source": [
    "df.dtypes"
   ]
  },
  {
   "cell_type": "code",
   "execution_count": 387,
   "metadata": {},
   "outputs": [],
   "source": [
    "#lets select some features which we want to use for classifier"
   ]
  },
  {
   "cell_type": "code",
   "execution_count": 388,
   "metadata": {},
   "outputs": [],
   "source": [
    "cdf = df[['DURATION', 'HOURLY_WAGE', 'AGENT_PRESENT_0.0', 'AGENT_PRESENT_1.0', 'DURATION_RANGE','HOURLY_WAGE_RANGE','CASE_STATUS_0.0', 'CASE_STATUS_1.0']]"
   ]
  },
  {
   "cell_type": "code",
   "execution_count": 389,
   "metadata": {},
   "outputs": [
    {
     "name": "stderr",
     "output_type": "stream",
     "text": [
      "/anaconda3/lib/python3.7/site-packages/ipykernel_launcher.py:1: SettingWithCopyWarning: \n",
      "A value is trying to be set on a copy of a slice from a DataFrame.\n",
      "Try using .loc[row_indexer,col_indexer] = value instead\n",
      "\n",
      "See the caveats in the documentation: https://pandas.pydata.org/pandas-docs/stable/user_guide/indexing.html#returning-a-view-versus-a-copy\n",
      "  \"\"\"Entry point for launching an IPython kernel.\n"
     ]
    }
   ],
   "source": [
    "cdf['AGENT_PRESENT_0.0']=cdf['AGENT_PRESENT_0.0'].astype('category')"
   ]
  },
  {
   "cell_type": "code",
   "execution_count": 390,
   "metadata": {},
   "outputs": [
    {
     "data": {
      "text/html": [
       "<div>\n",
       "<style scoped>\n",
       "    .dataframe tbody tr th:only-of-type {\n",
       "        vertical-align: middle;\n",
       "    }\n",
       "\n",
       "    .dataframe tbody tr th {\n",
       "        vertical-align: top;\n",
       "    }\n",
       "\n",
       "    .dataframe thead th {\n",
       "        text-align: right;\n",
       "    }\n",
       "</style>\n",
       "<table border=\"1\" class=\"dataframe\">\n",
       "  <thead>\n",
       "    <tr style=\"text-align: right;\">\n",
       "      <th></th>\n",
       "      <th>DURATION</th>\n",
       "      <th>HOURLY_WAGE</th>\n",
       "      <th>AGENT_PRESENT_0.0</th>\n",
       "      <th>AGENT_PRESENT_1.0</th>\n",
       "      <th>DURATION_RANGE</th>\n",
       "      <th>HOURLY_WAGE_RANGE</th>\n",
       "      <th>CASE_STATUS_0.0</th>\n",
       "      <th>CASE_STATUS_1.0</th>\n",
       "    </tr>\n",
       "  </thead>\n",
       "  <tbody>\n",
       "    <tr>\n",
       "      <th>759346</th>\n",
       "      <td>6</td>\n",
       "      <td>47.4</td>\n",
       "      <td>Present</td>\n",
       "      <td>0</td>\n",
       "      <td>(0,10]</td>\n",
       "      <td>(40,50]</td>\n",
       "      <td>0</td>\n",
       "      <td>1</td>\n",
       "    </tr>\n",
       "    <tr>\n",
       "      <th>356932</th>\n",
       "      <td>6</td>\n",
       "      <td>20.9</td>\n",
       "      <td>Present</td>\n",
       "      <td>0</td>\n",
       "      <td>(0,10]</td>\n",
       "      <td>(20,30]</td>\n",
       "      <td>0</td>\n",
       "      <td>1</td>\n",
       "    </tr>\n",
       "    <tr>\n",
       "      <th>620091</th>\n",
       "      <td>4</td>\n",
       "      <td>35.7</td>\n",
       "      <td>Absent</td>\n",
       "      <td>1</td>\n",
       "      <td>(0,10]</td>\n",
       "      <td>(30,40]</td>\n",
       "      <td>0</td>\n",
       "      <td>1</td>\n",
       "    </tr>\n",
       "    <tr>\n",
       "      <th>663836</th>\n",
       "      <td>7</td>\n",
       "      <td>30.6</td>\n",
       "      <td>Present</td>\n",
       "      <td>0</td>\n",
       "      <td>(0,10]</td>\n",
       "      <td>(30,40]</td>\n",
       "      <td>0</td>\n",
       "      <td>1</td>\n",
       "    </tr>\n",
       "    <tr>\n",
       "      <th>257533</th>\n",
       "      <td>6</td>\n",
       "      <td>33.9</td>\n",
       "      <td>Absent</td>\n",
       "      <td>1</td>\n",
       "      <td>(0,10]</td>\n",
       "      <td>(30,40]</td>\n",
       "      <td>0</td>\n",
       "      <td>1</td>\n",
       "    </tr>\n",
       "  </tbody>\n",
       "</table>\n",
       "</div>"
      ],
      "text/plain": [
       "        DURATION  HOURLY_WAGE AGENT_PRESENT_0.0  AGENT_PRESENT_1.0  \\\n",
       "759346         6         47.4           Present                  0   \n",
       "356932         6         20.9           Present                  0   \n",
       "620091         4         35.7            Absent                  1   \n",
       "663836         7         30.6           Present                  0   \n",
       "257533         6         33.9            Absent                  1   \n",
       "\n",
       "       DURATION_RANGE HOURLY_WAGE_RANGE  CASE_STATUS_0.0  CASE_STATUS_1.0  \n",
       "759346         (0,10]           (40,50]                0                1  \n",
       "356932         (0,10]           (20,30]                0                1  \n",
       "620091         (0,10]           (30,40]                0                1  \n",
       "663836         (0,10]           (30,40]                0                1  \n",
       "257533         (0,10]           (30,40]                0                1  "
      ]
     },
     "execution_count": 390,
     "metadata": {},
     "output_type": "execute_result"
    }
   ],
   "source": [
    "cdf.head(5)"
   ]
  },
  {
   "cell_type": "code",
   "execution_count": null,
   "metadata": {},
   "outputs": [],
   "source": []
  },
  {
   "cell_type": "code",
   "execution_count": 391,
   "metadata": {},
   "outputs": [
    {
     "data": {
      "text/plain": [
       "DURATION                int64\n",
       "HOURLY_WAGE           float64\n",
       "AGENT_PRESENT_0.0    category\n",
       "AGENT_PRESENT_1.0       int64\n",
       "DURATION_RANGE         object\n",
       "HOURLY_WAGE_RANGE      object\n",
       "CASE_STATUS_0.0         int64\n",
       "CASE_STATUS_1.0         int64\n",
       "dtype: object"
      ]
     },
     "execution_count": 391,
     "metadata": {},
     "output_type": "execute_result"
    }
   ],
   "source": [
    "cdf.dtypes"
   ]
  },
  {
   "cell_type": "code",
   "execution_count": 392,
   "metadata": {},
   "outputs": [],
   "source": [
    "#Decision Trees and Random Forests."
   ]
  },
  {
   "cell_type": "code",
   "execution_count": 393,
   "metadata": {},
   "outputs": [
    {
     "data": {
      "text/plain": [
       "Index(['DURATION', 'HOURLY_WAGE', 'AGENT_PRESENT_0.0', 'AGENT_PRESENT_1.0',\n",
       "       'DURATION_RANGE', 'HOURLY_WAGE_RANGE', 'CASE_STATUS_0.0',\n",
       "       'CASE_STATUS_1.0'],\n",
       "      dtype='object')"
      ]
     },
     "execution_count": 393,
     "metadata": {},
     "output_type": "execute_result"
    }
   ],
   "source": [
    "cdf.columns"
   ]
  },
  {
   "cell_type": "code",
   "execution_count": 394,
   "metadata": {},
   "outputs": [],
   "source": [
    "#setting up decision tree\n",
    "from sklearn.model_selection import train_test_split\n",
    "X=np.array(cdf[['DURATION', \"HOURLY_WAGE\", 'CASE_STATUS_0.0', 'CASE_STATUS_1.0']])\n",
    "y=cdf['AGENT_PRESENT_0.0']\n",
    "X_trainset,X_testset,y_trainset,y_testset=train_test_split(X,y,test_size=0.3,random_state=6)"
   ]
  },
  {
   "cell_type": "code",
   "execution_count": 395,
   "metadata": {},
   "outputs": [],
   "source": [
    "import matplotlib.pyplot as plt\n",
    "#sns.boxplot(x=\"AGENT_PRESENT_0.0\", y=\"DURATION\", data=df)\n",
    "#plt.savefig('ac.png')"
   ]
  },
  {
   "cell_type": "code",
   "execution_count": 396,
   "metadata": {},
   "outputs": [
    {
     "name": "stdout",
     "output_type": "stream",
     "text": [
      "(202008, 4)\n",
      "(202008,)\n"
     ]
    }
   ],
   "source": [
    "print(X_trainset.shape)\n",
    "print(y_trainset.shape)"
   ]
  },
  {
   "cell_type": "code",
   "execution_count": 397,
   "metadata": {},
   "outputs": [
    {
     "name": "stdout",
     "output_type": "stream",
     "text": [
      "(86576, 4)\n",
      "(86576,)\n"
     ]
    }
   ],
   "source": [
    "print(X_testset.shape)\n",
    "print(y_testset.shape)"
   ]
  },
  {
   "cell_type": "code",
   "execution_count": 398,
   "metadata": {},
   "outputs": [],
   "source": [
    "#modeling\n",
    "from sklearn.tree import DecisionTreeClassifier\n",
    "from sklearn import tree\n",
    "AGENT_PRESENT_tree=DecisionTreeClassifier(criterion=\"entropy\", max_depth=4) "
   ]
  },
  {
   "cell_type": "code",
   "execution_count": 399,
   "metadata": {},
   "outputs": [],
   "source": [
    "#conda upgrade scikit-learn"
   ]
  },
  {
   "cell_type": "code",
   "execution_count": 400,
   "metadata": {},
   "outputs": [],
   "source": [
    "from sklearn.tree.export import export_text\n",
    "from sklearn.tree import plot_tree\n",
    "import matplotlib.pyplot as plt"
   ]
  },
  {
   "cell_type": "code",
   "execution_count": 401,
   "metadata": {},
   "outputs": [
    {
     "data": {
      "text/plain": [
       "DecisionTreeClassifier(ccp_alpha=0.0, class_weight=None, criterion='entropy',\n",
       "                       max_depth=4, max_features=None, max_leaf_nodes=None,\n",
       "                       min_impurity_decrease=0.0, min_impurity_split=None,\n",
       "                       min_samples_leaf=1, min_samples_split=2,\n",
       "                       min_weight_fraction_leaf=0.0, presort='deprecated',\n",
       "                       random_state=None, splitter='best')"
      ]
     },
     "execution_count": 401,
     "metadata": {},
     "output_type": "execute_result"
    }
   ],
   "source": [
    "AGENT_PRESENT_tree"
   ]
  },
  {
   "cell_type": "code",
   "execution_count": 402,
   "metadata": {},
   "outputs": [
    {
     "data": {
      "image/png": "[encoded data removed]",
      "text/plain": [
       "<Figure size 432x288 with 1 Axes>"
      ]
     },
     "metadata": {
      "needs_background": "light"
     },
     "output_type": "display_data"
    }
   ],
   "source": [
    "AGENT_PRESENT_tree.fit(X_trainset,y_trainset)\n",
    "plot_tree(AGENT_PRESENT_tree, filled = True)\n",
    "plt.savefig('1avc.JPEG', dpi = 355, quality = 95, orientation = 'landscape', transparent=False)\n",
    "fig1 = plt.gcf()\n",
    "plt.show()"
   ]
  },
  {
   "cell_type": "code",
   "execution_count": null,
   "metadata": {},
   "outputs": [],
   "source": []
  },
  {
   "cell_type": "code",
   "execution_count": 403,
   "metadata": {},
   "outputs": [],
   "source": [
    "#from sklearn import graphviz"
   ]
  },
  {
   "cell_type": "code",
   "execution_count": 404,
   "metadata": {},
   "outputs": [],
   "source": [
    "#Tpng AGENT_PRESENT_tree.dot tree.png "
   ]
  },
  {
   "cell_type": "code",
   "execution_count": null,
   "metadata": {},
   "outputs": [],
   "source": []
  },
  {
   "cell_type": "code",
   "execution_count": 405,
   "metadata": {},
   "outputs": [],
   "source": [
    "#from sklearn.tree.export import export_text\n",
    "#r = export_text(CASE_STATUS_tree, feature_names=cdf['CASE_STATUS_0.0'])\n",
    "#print(r)"
   ]
  },
  {
   "cell_type": "code",
   "execution_count": 406,
   "metadata": {},
   "outputs": [
    {
     "name": "stdout",
     "output_type": "stream",
     "text": [
      "['Absent' 'Absent' 'Absent' 'Absent' 'Absent']\n",
      "569824     Absent\n",
      "84152      Absent\n",
      "26099     Present\n",
      "468201     Absent\n",
      "546271     Absent\n",
      "Name: AGENT_PRESENT_0.0, dtype: category\n",
      "Categories (2, object): [Absent, Present]\n"
     ]
    }
   ],
   "source": [
    "#Prediction\n",
    "predTree = AGENT_PRESENT_tree.predict(X_testset)\n",
    "print(predTree[0:5])\n",
    "print(y_testset[0:5])"
   ]
  },
  {
   "cell_type": "code",
   "execution_count": 407,
   "metadata": {},
   "outputs": [
    {
     "name": "stdout",
     "output_type": "stream",
     "text": [
      "DecisionTree's Accuracy: 0.6259009425244871\n"
     ]
    }
   ],
   "source": [
    "#Evaluation\n",
    "from sklearn import metrics\n",
    "import matplotlib.pyplot as plt\n",
    "print(\"DecisionTree's Accuracy:\", metrics.accuracy_score(y_testset,predTree))"
   ]
  },
  {
   "cell_type": "markdown",
   "metadata": {},
   "source": [
    "Accuracy classification score computes subset accuracy: the set of labels predicted for a sample must exactly match the corresponding set of labels in y_true.\n",
    "\n",
    "In multilabel classification, the function returns the subset accuracy. If the entire set of predicted labels for a sample strictly match with the true set of labels, then the subset accuracy is 1.0; otherwise it is 0.0."
   ]
  },
  {
   "cell_type": "code",
   "execution_count": 410,
   "metadata": {},
   "outputs": [],
   "source": [
    "from sklearn.externals.six import StringIO\n",
    "import pydotplus\n",
    "import matplotlib.image as mpimg\n",
    "from sklearn import tree\n",
    "%matplotlib inline "
   ]
  },
  {
   "cell_type": "code",
   "execution_count": 411,
   "metadata": {},
   "outputs": [
    {
     "name": "stdout",
     "output_type": "stream",
     "text": [
      "[[52184  1469]\n",
      " [30919  2004]]\n"
     ]
    }
   ],
   "source": [
    "from sklearn.metrics import classification_report, confusion_matrix\n",
    "import itertools\n",
    "def plot_confusion_matrix(cm, classes,\n",
    "                          normalize=False,\n",
    "                          title='Confusion matrix',\n",
    "                          cmap=plt.cm.Blues):\n",
    "    \"\"\"\n",
    "    This function prints and plots the confusion matrix.\n",
    "    Normalization can be applied by setting `normalize=True`.\n",
    "    \"\"\"\n",
    "    if normalize:\n",
    "        cm = cm.astype('float') / cm.sum(axis=1)[:, np.newaxis]\n",
    "        print(\"Normalized confusion matrix\")\n",
    "    else:\n",
    "        print('Confusion matrix, without normalization')\n",
    "\n",
    "    print(cm)\n",
    "\n",
    "    plt.imshow(cm, interpolation='nearest', cmap=cmap)\n",
    "    plt.title(title)\n",
    "    plt.colorbar()\n",
    "    tick_marks = np.arange(len(classes))\n",
    "    plt.xticks(tick_marks, classes, rotation=45)\n",
    "    plt.yticks(tick_marks, classes)\n",
    "\n",
    "    fmt = '.2f' if normalize else 'd'\n",
    "    thresh = cm.max() / 2.\n",
    "    for i, j in itertools.product(range(cm.shape[0]), range(cm.shape[1])):\n",
    "        plt.text(j, i, format(cm[i, j], fmt),\n",
    "                 horizontalalignment=\"center\",\n",
    "                 color=\"white\" if cm[i, j] > thresh else \"black\")\n",
    "\n",
    "    plt.tight_layout()\n",
    "    plt.ylabel('True label')\n",
    "    plt.xlabel('Predicted label')\n",
    "print(confusion_matrix(y_testset, predTree, labels=[\"Absent\", \"Present\"]))"
   ]
  },
  {
   "cell_type": "code",
   "execution_count": 412,
   "metadata": {},
   "outputs": [
    {
     "name": "stdout",
     "output_type": "stream",
     "text": [
      "Normalized confusion matrix\n",
      "[[0.97 0.03]\n",
      " [0.94 0.06]]\n"
     ]
    },
    {
     "data": {
      "image/png": "[encoded data removed]",
      "text/plain": [
       "<Figure size 432x288 with 2 Axes>"
      ]
     },
     "metadata": {
      "needs_background": "light"
     },
     "output_type": "display_data"
    }
   ],
   "source": [
    "# Compute confusion matrix\n",
    "cnf_matrix = confusion_matrix(y_testset, predTree, labels=[\"Absent\", \"Present\"])\n",
    "np.set_printoptions(precision=2)\n",
    "# Plot normalized confusion matrix\n",
    "plt.figure()\n",
    "plot_confusion_matrix(cnf_matrix, classes=['Agent=Absent','Agent=Present'],normalize= True,  title='Confusion matrix')"
   ]
  },
  {
   "cell_type": "code",
   "execution_count": 415,
   "metadata": {},
   "outputs": [],
   "source": [
    "#pip install pydot"
   ]
  },
  {
   "cell_type": "code",
   "execution_count": 417,
   "metadata": {},
   "outputs": [],
   "source": [
    "from sklearn.model_selection import cross_val_score\n",
    "from sklearn.ensemble import AdaBoostClassifier"
   ]
  },
  {
   "cell_type": "code",
   "execution_count": 417,
   "metadata": {},
   "outputs": [],
   "source": [
    "bdt_real = AdaBoostClassifier(\n",
    "    DecisionTreeClassifier(max_depth=2),\n",
    "    n_estimators=600,\n",
    "    learning_rate=1)\n",
    "bdt_discrete = AdaBoostClassifier(\n",
    "    DecisionTreeClassifier(max_depth=2),\n",
    "    n_estimators=600,\n",
    "    learning_rate=1.5,\n",
    "    algorithm=\"SAMME\")"
   ]
  },
  {
   "cell_type": "code",
   "execution_count": 422,
   "metadata": {},
   "outputs": [
    {
     "data": {
      "text/plain": [
       "AdaBoostClassifier(algorithm='SAMME',\n",
       "                   base_estimator=DecisionTreeClassifier(ccp_alpha=0.0,\n",
       "                                                         class_weight=None,\n",
       "                                                         criterion='gini',\n",
       "                                                         max_depth=2,\n",
       "                                                         max_features=None,\n",
       "                                                         max_leaf_nodes=None,\n",
       "                                                         min_impurity_decrease=0.0,\n",
       "                                                         min_impurity_split=None,\n",
       "                                                         min_samples_leaf=1,\n",
       "                                                         min_samples_split=2,\n",
       "                                                         min_weight_fraction_leaf=0.0,\n",
       "                                                         presort='deprecated',\n",
       "                                                         random_state=None,\n",
       "                                                         splitter='best'),\n",
       "                   learning_rate=1.5, n_estimators=600, random_state=None)"
      ]
     },
     "execution_count": 422,
     "metadata": {},
     "output_type": "execute_result"
    }
   ],
   "source": [
    "bdt_real.fit(X_trainset, y_trainset)\n",
    "bdt_discrete.fit(X_trainset, y_trainset)"
   ]
  },
  {
   "cell_type": "code",
   "execution_count": 426,
   "metadata": {},
   "outputs": [
    {
     "name": "stdout",
     "output_type": "stream",
     "text": [
      "Real DecisionTree's Accuracy: 0.6395536869340233\n"
     ]
    }
   ],
   "source": [
    "print(\"Real DecisionTree's Accuracy:\", metrics.accuracy_score(real_test_predict, y_testset))"
   ]
  },
  {
   "cell_type": "code",
   "execution_count": 427,
   "metadata": {},
   "outputs": [
    {
     "name": "stdout",
     "output_type": "stream",
     "text": [
      "ADAboost DecisionTree's Accuracy: 0.6294816115320643\n"
     ]
    }
   ],
   "source": [
    "print(\"ADAboost DecisionTree's Accuracy:\", metrics.accuracy_score(discrete_train_predict, y_testset))"
   ]
  },
  {
   "cell_type": "code",
   "execution_count": null,
   "metadata": {},
   "outputs": [],
   "source": []
  },
  {
   "cell_type": "code",
   "execution_count": 250,
   "metadata": {},
   "outputs": [],
   "source": []
  },
  {
   "cell_type": "code",
   "execution_count": null,
   "metadata": {},
   "outputs": [],
   "source": []
  },
  {
   "cell_type": "code",
   "execution_count": null,
   "metadata": {},
   "outputs": [],
   "source": []
  },
  {
   "cell_type": "code",
   "execution_count": null,
   "metadata": {},
   "outputs": [],
   "source": []
  },
  {
   "cell_type": "code",
   "execution_count": null,
   "metadata": {},
   "outputs": [],
   "source": []
  },
  {
   "cell_type": "code",
   "execution_count": null,
   "metadata": {},
   "outputs": [],
   "source": []
  },
  {
   "cell_type": "code",
   "execution_count": null,
   "metadata": {},
   "outputs": [],
   "source": []
  },
  {
   "cell_type": "code",
   "execution_count": null,
   "metadata": {},
   "outputs": [],
   "source": []
  },
  {
   "cell_type": "code",
   "execution_count": null,
   "metadata": {},
   "outputs": [],
   "source": []
  },
  {
   "cell_type": "code",
   "execution_count": null,
   "metadata": {},
   "outputs": [],
   "source": []
  },
  {
   "cell_type": "code",
   "execution_count": null,
   "metadata": {},
   "outputs": [],
   "source": []
  },
  {
   "cell_type": "code",
   "execution_count": null,
   "metadata": {},
   "outputs": [],
   "source": []
  },
  {
   "cell_type": "code",
   "execution_count": null,
   "metadata": {},
   "outputs": [],
   "source": []
  }
 ],
 "metadata": {
  "kernelspec": {
   "display_name": "Python 3",
   "language": "python",
   "name": "python3"
  },
  "language_info": {
   "codemirror_mode": {
    "name": "ipython",
    "version": 3
   },
   "file_extension": ".py",
   "mimetype": "text/x-python",
   "name": "python",
   "nbconvert_exporter": "python",
   "pygments_lexer": "ipython3",
   "version": "3.7.3"
  }
 },
 "nbformat": 4,
 "nbformat_minor": 4
}
