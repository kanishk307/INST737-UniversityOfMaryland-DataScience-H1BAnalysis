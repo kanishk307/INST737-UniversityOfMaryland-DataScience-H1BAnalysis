{
 "cells": [
  {
   "cell_type": "code",
   "execution_count": 43,
   "metadata": {},
   "outputs": [],
   "source": [
    "import numpy as np\n",
    "import pandas as pd"
   ]
  },
  {
   "cell_type": "code",
   "execution_count": 44,
   "metadata": {},
   "outputs": [],
   "source": [
    "csv_path = r\"C:\\Users\\kjain307\\Documents\\GitHub\\INST737-UniversityOfMaryland-DataScience-H1BAnalysis\\Milestone2\\encoding\\clean-new3.csv\""
   ]
  },
  {
   "cell_type": "code",
   "execution_count": 45,
   "metadata": {},
   "outputs": [
    {
     "name": "stderr",
     "output_type": "stream",
     "text": [
      "C:\\Users\\kjain307\\Anaconda3\\lib\\site-packages\\IPython\\core\\interactiveshell.py:3063: DtypeWarning: Columns (32) have mixed types.Specify dtype option on import or set low_memory=False.\n",
      "  interactivity=interactivity, compiler=compiler, result=result)\n"
     ]
    }
   ],
   "source": [
    "df = pd.read_csv(csv_path)"
   ]
  },
  {
   "cell_type": "code",
   "execution_count": 50,
   "metadata": {},
   "outputs": [
    {
     "data": {
      "text/plain": [
       "Unnamed: 0                      int64\n",
       "X                               int64\n",
       "Unnamed..0                      int64\n",
       "Unnamed..0.1                    int64\n",
       "AGENT_ATTORNEY_CITY            object\n",
       "AGENT_ATTORNEY_NAME            object\n",
       "AGENT_PRESENT                   int64\n",
       "CASE_STATUS                     int64\n",
       "DURATION                        int64\n",
       "HOURLY_WAGE                   float64\n",
       "SOC_NAME                       object\n",
       "WAGE_RATE_OF_PAY_FROM_HOUR    float64\n",
       "WILLFUL_VIOLATOR                int64\n",
       "dtype: object"
      ]
     },
     "execution_count": 50,
     "metadata": {},
     "output_type": "execute_result"
    }
   ],
   "source": [
    "df.dtypes"
   ]
  },
  {
   "cell_type": "code",
   "execution_count": 47,
   "metadata": {},
   "outputs": [],
   "source": [
    "df = df.drop(['AGENT_ATTORNEY_STATE','CASE_NUMBER','CASE_SUBMITTED','DECISION_DATE','EMPLOYER_ADDRESS','EMPLOYER_CITY','EMPLOYER_COUNTRY'],1)"
   ]
  },
  {
   "cell_type": "code",
   "execution_count": 51,
   "metadata": {},
   "outputs": [],
   "source": [
    "df = df.drop(['Unnamed: 0','X','Unnamed..0','Unnamed..0.1'],1)"
   ]
  },
  {
   "cell_type": "code",
   "execution_count": 52,
   "metadata": {},
   "outputs": [
    {
     "ename": "KeyError",
     "evalue": "\"['EMPLOYER_NAME' 'EMPLOYER_STATE' 'EMPLOYMENT_END_DATE'\\n 'EMPLOYMENT_START_DATE' 'H.1B_DEPENDENT' 'JOB_TITLE' 'PREVAILING_WAGE'\\n 'PW_UNIT_OF_PAY' 'PW_WAGE_SOURCE_YEAR' 'SOC_CODE' 'TOTAL_WORKERS'\\n 'VISA_CLASS' 'WAGE_RATE_OF_PAY_FROM' 'WAGE_RATE_OF_PAY_TO'\\n 'WAGE_UNIT_OF_PAY' 'WORKSITE_CITY' 'WORKSITE_COUNTY' 'WORKSITE_STATE'\\n 'WORKSITE_POSTAL_CODE'] not found in axis\"",
     "output_type": "error",
     "traceback": [
      "\u001b[1;31m---------------------------------------------------------------------------\u001b[0m",
      "\u001b[1;31mKeyError\u001b[0m                                  Traceback (most recent call last)",
      "\u001b[1;32m<ipython-input-52-7c59d74117e9>\u001b[0m in \u001b[0;36m<module>\u001b[1;34m\u001b[0m\n\u001b[1;32m----> 1\u001b[1;33m \u001b[0mdf\u001b[0m \u001b[1;33m=\u001b[0m \u001b[0mdf\u001b[0m\u001b[1;33m.\u001b[0m\u001b[0mdrop\u001b[0m\u001b[1;33m(\u001b[0m\u001b[1;33m[\u001b[0m\u001b[1;34m'EMPLOYER_NAME'\u001b[0m\u001b[1;33m,\u001b[0m\u001b[1;34m'EMPLOYER_STATE'\u001b[0m\u001b[1;33m,\u001b[0m\u001b[1;34m'EMPLOYMENT_END_DATE'\u001b[0m\u001b[1;33m,\u001b[0m\u001b[1;34m'EMPLOYMENT_START_DATE'\u001b[0m\u001b[1;33m,\u001b[0m\u001b[1;34m'H.1B_DEPENDENT'\u001b[0m\u001b[1;33m,\u001b[0m\u001b[1;34m'JOB_TITLE'\u001b[0m\u001b[1;33m,\u001b[0m\u001b[1;34m'PREVAILING_WAGE'\u001b[0m\u001b[1;33m,\u001b[0m\u001b[1;34m'PW_UNIT_OF_PAY'\u001b[0m\u001b[1;33m,\u001b[0m\u001b[1;34m'PW_WAGE_SOURCE_YEAR'\u001b[0m\u001b[1;33m,\u001b[0m\u001b[1;34m'SOC_CODE'\u001b[0m\u001b[1;33m,\u001b[0m\u001b[1;34m'TOTAL_WORKERS'\u001b[0m\u001b[1;33m,\u001b[0m\u001b[1;34m'VISA_CLASS'\u001b[0m\u001b[1;33m,\u001b[0m\u001b[1;34m'WAGE_RATE_OF_PAY_FROM'\u001b[0m\u001b[1;33m,\u001b[0m\u001b[1;34m'WAGE_RATE_OF_PAY_TO'\u001b[0m\u001b[1;33m,\u001b[0m\u001b[1;34m'WAGE_UNIT_OF_PAY'\u001b[0m\u001b[1;33m,\u001b[0m\u001b[1;34m'WORKSITE_CITY'\u001b[0m\u001b[1;33m,\u001b[0m\u001b[1;34m'WORKSITE_COUNTY'\u001b[0m\u001b[1;33m,\u001b[0m\u001b[1;34m'WORKSITE_STATE'\u001b[0m\u001b[1;33m,\u001b[0m\u001b[1;34m'WORKSITE_POSTAL_CODE'\u001b[0m\u001b[1;33m]\u001b[0m\u001b[1;33m,\u001b[0m \u001b[1;36m1\u001b[0m\u001b[1;33m)\u001b[0m\u001b[1;33m\u001b[0m\u001b[1;33m\u001b[0m\u001b[0m\n\u001b[0m",
      "\u001b[1;32m~\\Anaconda3\\lib\\site-packages\\pandas\\core\\frame.py\u001b[0m in \u001b[0;36mdrop\u001b[1;34m(self, labels, axis, index, columns, level, inplace, errors)\u001b[0m\n\u001b[0;32m   3995\u001b[0m             \u001b[0mlevel\u001b[0m\u001b[1;33m=\u001b[0m\u001b[0mlevel\u001b[0m\u001b[1;33m,\u001b[0m\u001b[1;33m\u001b[0m\u001b[1;33m\u001b[0m\u001b[0m\n\u001b[0;32m   3996\u001b[0m             \u001b[0minplace\u001b[0m\u001b[1;33m=\u001b[0m\u001b[0minplace\u001b[0m\u001b[1;33m,\u001b[0m\u001b[1;33m\u001b[0m\u001b[1;33m\u001b[0m\u001b[0m\n\u001b[1;32m-> 3997\u001b[1;33m             \u001b[0merrors\u001b[0m\u001b[1;33m=\u001b[0m\u001b[0merrors\u001b[0m\u001b[1;33m,\u001b[0m\u001b[1;33m\u001b[0m\u001b[1;33m\u001b[0m\u001b[0m\n\u001b[0m\u001b[0;32m   3998\u001b[0m         )\n\u001b[0;32m   3999\u001b[0m \u001b[1;33m\u001b[0m\u001b[0m\n",
      "\u001b[1;32m~\\Anaconda3\\lib\\site-packages\\pandas\\core\\generic.py\u001b[0m in \u001b[0;36mdrop\u001b[1;34m(self, labels, axis, index, columns, level, inplace, errors)\u001b[0m\n\u001b[0;32m   3934\u001b[0m         \u001b[1;32mfor\u001b[0m \u001b[0maxis\u001b[0m\u001b[1;33m,\u001b[0m \u001b[0mlabels\u001b[0m \u001b[1;32min\u001b[0m \u001b[0maxes\u001b[0m\u001b[1;33m.\u001b[0m\u001b[0mitems\u001b[0m\u001b[1;33m(\u001b[0m\u001b[1;33m)\u001b[0m\u001b[1;33m:\u001b[0m\u001b[1;33m\u001b[0m\u001b[1;33m\u001b[0m\u001b[0m\n\u001b[0;32m   3935\u001b[0m             \u001b[1;32mif\u001b[0m \u001b[0mlabels\u001b[0m \u001b[1;32mis\u001b[0m \u001b[1;32mnot\u001b[0m \u001b[1;32mNone\u001b[0m\u001b[1;33m:\u001b[0m\u001b[1;33m\u001b[0m\u001b[1;33m\u001b[0m\u001b[0m\n\u001b[1;32m-> 3936\u001b[1;33m                 \u001b[0mobj\u001b[0m \u001b[1;33m=\u001b[0m \u001b[0mobj\u001b[0m\u001b[1;33m.\u001b[0m\u001b[0m_drop_axis\u001b[0m\u001b[1;33m(\u001b[0m\u001b[0mlabels\u001b[0m\u001b[1;33m,\u001b[0m \u001b[0maxis\u001b[0m\u001b[1;33m,\u001b[0m \u001b[0mlevel\u001b[0m\u001b[1;33m=\u001b[0m\u001b[0mlevel\u001b[0m\u001b[1;33m,\u001b[0m \u001b[0merrors\u001b[0m\u001b[1;33m=\u001b[0m\u001b[0merrors\u001b[0m\u001b[1;33m)\u001b[0m\u001b[1;33m\u001b[0m\u001b[1;33m\u001b[0m\u001b[0m\n\u001b[0m\u001b[0;32m   3937\u001b[0m \u001b[1;33m\u001b[0m\u001b[0m\n\u001b[0;32m   3938\u001b[0m         \u001b[1;32mif\u001b[0m \u001b[0minplace\u001b[0m\u001b[1;33m:\u001b[0m\u001b[1;33m\u001b[0m\u001b[1;33m\u001b[0m\u001b[0m\n",
      "\u001b[1;32m~\\Anaconda3\\lib\\site-packages\\pandas\\core\\generic.py\u001b[0m in \u001b[0;36m_drop_axis\u001b[1;34m(self, labels, axis, level, errors)\u001b[0m\n\u001b[0;32m   3968\u001b[0m                 \u001b[0mnew_axis\u001b[0m \u001b[1;33m=\u001b[0m \u001b[0maxis\u001b[0m\u001b[1;33m.\u001b[0m\u001b[0mdrop\u001b[0m\u001b[1;33m(\u001b[0m\u001b[0mlabels\u001b[0m\u001b[1;33m,\u001b[0m \u001b[0mlevel\u001b[0m\u001b[1;33m=\u001b[0m\u001b[0mlevel\u001b[0m\u001b[1;33m,\u001b[0m \u001b[0merrors\u001b[0m\u001b[1;33m=\u001b[0m\u001b[0merrors\u001b[0m\u001b[1;33m)\u001b[0m\u001b[1;33m\u001b[0m\u001b[1;33m\u001b[0m\u001b[0m\n\u001b[0;32m   3969\u001b[0m             \u001b[1;32melse\u001b[0m\u001b[1;33m:\u001b[0m\u001b[1;33m\u001b[0m\u001b[1;33m\u001b[0m\u001b[0m\n\u001b[1;32m-> 3970\u001b[1;33m                 \u001b[0mnew_axis\u001b[0m \u001b[1;33m=\u001b[0m \u001b[0maxis\u001b[0m\u001b[1;33m.\u001b[0m\u001b[0mdrop\u001b[0m\u001b[1;33m(\u001b[0m\u001b[0mlabels\u001b[0m\u001b[1;33m,\u001b[0m \u001b[0merrors\u001b[0m\u001b[1;33m=\u001b[0m\u001b[0merrors\u001b[0m\u001b[1;33m)\u001b[0m\u001b[1;33m\u001b[0m\u001b[1;33m\u001b[0m\u001b[0m\n\u001b[0m\u001b[0;32m   3971\u001b[0m             \u001b[0mresult\u001b[0m \u001b[1;33m=\u001b[0m \u001b[0mself\u001b[0m\u001b[1;33m.\u001b[0m\u001b[0mreindex\u001b[0m\u001b[1;33m(\u001b[0m\u001b[1;33m**\u001b[0m\u001b[1;33m{\u001b[0m\u001b[0maxis_name\u001b[0m\u001b[1;33m:\u001b[0m \u001b[0mnew_axis\u001b[0m\u001b[1;33m}\u001b[0m\u001b[1;33m)\u001b[0m\u001b[1;33m\u001b[0m\u001b[1;33m\u001b[0m\u001b[0m\n\u001b[0;32m   3972\u001b[0m \u001b[1;33m\u001b[0m\u001b[0m\n",
      "\u001b[1;32m~\\Anaconda3\\lib\\site-packages\\pandas\\core\\indexes\\base.py\u001b[0m in \u001b[0;36mdrop\u001b[1;34m(self, labels, errors)\u001b[0m\n\u001b[0;32m   5016\u001b[0m         \u001b[1;32mif\u001b[0m \u001b[0mmask\u001b[0m\u001b[1;33m.\u001b[0m\u001b[0many\u001b[0m\u001b[1;33m(\u001b[0m\u001b[1;33m)\u001b[0m\u001b[1;33m:\u001b[0m\u001b[1;33m\u001b[0m\u001b[1;33m\u001b[0m\u001b[0m\n\u001b[0;32m   5017\u001b[0m             \u001b[1;32mif\u001b[0m \u001b[0merrors\u001b[0m \u001b[1;33m!=\u001b[0m \u001b[1;34m\"ignore\"\u001b[0m\u001b[1;33m:\u001b[0m\u001b[1;33m\u001b[0m\u001b[1;33m\u001b[0m\u001b[0m\n\u001b[1;32m-> 5018\u001b[1;33m                 \u001b[1;32mraise\u001b[0m \u001b[0mKeyError\u001b[0m\u001b[1;33m(\u001b[0m\u001b[1;34mf\"{labels[mask]} not found in axis\"\u001b[0m\u001b[1;33m)\u001b[0m\u001b[1;33m\u001b[0m\u001b[1;33m\u001b[0m\u001b[0m\n\u001b[0m\u001b[0;32m   5019\u001b[0m             \u001b[0mindexer\u001b[0m \u001b[1;33m=\u001b[0m \u001b[0mindexer\u001b[0m\u001b[1;33m[\u001b[0m\u001b[1;33m~\u001b[0m\u001b[0mmask\u001b[0m\u001b[1;33m]\u001b[0m\u001b[1;33m\u001b[0m\u001b[1;33m\u001b[0m\u001b[0m\n\u001b[0;32m   5020\u001b[0m         \u001b[1;32mreturn\u001b[0m \u001b[0mself\u001b[0m\u001b[1;33m.\u001b[0m\u001b[0mdelete\u001b[0m\u001b[1;33m(\u001b[0m\u001b[0mindexer\u001b[0m\u001b[1;33m)\u001b[0m\u001b[1;33m\u001b[0m\u001b[1;33m\u001b[0m\u001b[0m\n",
      "\u001b[1;31mKeyError\u001b[0m: \"['EMPLOYER_NAME' 'EMPLOYER_STATE' 'EMPLOYMENT_END_DATE'\\n 'EMPLOYMENT_START_DATE' 'H.1B_DEPENDENT' 'JOB_TITLE' 'PREVAILING_WAGE'\\n 'PW_UNIT_OF_PAY' 'PW_WAGE_SOURCE_YEAR' 'SOC_CODE' 'TOTAL_WORKERS'\\n 'VISA_CLASS' 'WAGE_RATE_OF_PAY_FROM' 'WAGE_RATE_OF_PAY_TO'\\n 'WAGE_UNIT_OF_PAY' 'WORKSITE_CITY' 'WORKSITE_COUNTY' 'WORKSITE_STATE'\\n 'WORKSITE_POSTAL_CODE'] not found in axis\""
     ]
    }
   ],
   "source": [
    "df = df.drop(['EMPLOYER_NAME','EMPLOYER_STATE','EMPLOYMENT_END_DATE','EMPLOYMENT_START_DATE','H.1B_DEPENDENT','JOB_TITLE','PREVAILING_WAGE','PW_UNIT_OF_PAY','PW_WAGE_SOURCE_YEAR','SOC_CODE','TOTAL_WORKERS','VISA_CLASS','WAGE_RATE_OF_PAY_FROM','WAGE_RATE_OF_PAY_TO','WAGE_UNIT_OF_PAY','WORKSITE_CITY','WORKSITE_COUNTY','WORKSITE_STATE','WORKSITE_POSTAL_CODE'], 1)"
   ]
  },
  {
   "cell_type": "code",
   "execution_count": 53,
   "metadata": {},
   "outputs": [
    {
     "data": {
      "text/plain": [
       "AGENT_ATTORNEY_CITY            object\n",
       "AGENT_ATTORNEY_NAME            object\n",
       "AGENT_PRESENT                   int64\n",
       "CASE_STATUS                     int64\n",
       "DURATION                        int64\n",
       "HOURLY_WAGE                   float64\n",
       "SOC_NAME                       object\n",
       "WAGE_RATE_OF_PAY_FROM_HOUR    float64\n",
       "WILLFUL_VIOLATOR                int64\n",
       "dtype: object"
      ]
     },
     "execution_count": 53,
     "metadata": {},
     "output_type": "execute_result"
    }
   ],
   "source": [
    "df.dtypes"
   ]
  },
  {
   "cell_type": "code",
   "execution_count": 54,
   "metadata": {},
   "outputs": [],
   "source": [
    "df['CASE_STATUS']=df['CASE_STATUS'].astype('category')"
   ]
  },
  {
   "cell_type": "code",
   "execution_count": 55,
   "metadata": {},
   "outputs": [],
   "source": [
    "df['AGENT_PRESENT']=df['AGENT_PRESENT'].astype('category')"
   ]
  },
  {
   "cell_type": "code",
   "execution_count": 56,
   "metadata": {},
   "outputs": [],
   "source": [
    "df['SOC_NAME']=df['SOC_NAME'].astype('category')"
   ]
  },
  {
   "cell_type": "code",
   "execution_count": 57,
   "metadata": {},
   "outputs": [],
   "source": [
    "df['WILLFUL_VIOLATOR']=df['WILLFUL_VIOLATOR'].astype('category')"
   ]
  },
  {
   "cell_type": "code",
   "execution_count": 58,
   "metadata": {},
   "outputs": [],
   "source": [
    "df = pd.concat([df,pd.get_dummies(df['AGENT_PRESENT'], prefix='AGENT_PRESENT',dummy_na=True)],axis=1).drop(['AGENT_PRESENT'],axis=1)\n"
   ]
  },
  {
   "cell_type": "code",
   "execution_count": 59,
   "metadata": {},
   "outputs": [],
   "source": [
    "df = pd.concat([df,pd.get_dummies(df['CASE_STATUS'], prefix='CASE_STATUS',dummy_na=True)],axis=1).drop(['CASE_STATUS'],axis=1)"
   ]
  },
  {
   "cell_type": "code",
   "execution_count": 60,
   "metadata": {},
   "outputs": [],
   "source": [
    "#df = pd.concat([df,pd.get_dummies(df['SOC_NAME'], prefix='SOC_NAME',dummy_na=True)],axis=1).drop(['SOC_NAME'],axis=1)"
   ]
  },
  {
   "cell_type": "code",
   "execution_count": 61,
   "metadata": {},
   "outputs": [],
   "source": [
    "#df = pd.concat([df,pd.get_dummies(df['WILLFUL_VIOLATOR'], prefix='WILLFUL_VIOLATOR',dummy_na=True)],axis=1).drop(['WILLFUL_VIOLATOR'],axis=1)"
   ]
  },
  {
   "cell_type": "code",
   "execution_count": 62,
   "metadata": {},
   "outputs": [
    {
     "data": {
      "text/plain": [
       "AGENT_ATTORNEY_CITY             object\n",
       "AGENT_ATTORNEY_NAME             object\n",
       "DURATION                         int64\n",
       "HOURLY_WAGE                    float64\n",
       "SOC_NAME                      category\n",
       "WAGE_RATE_OF_PAY_FROM_HOUR     float64\n",
       "WILLFUL_VIOLATOR              category\n",
       "AGENT_PRESENT_0.0                uint8\n",
       "AGENT_PRESENT_1.0                uint8\n",
       "AGENT_PRESENT_nan                uint8\n",
       "CASE_STATUS_0.0                  uint8\n",
       "CASE_STATUS_1.0                  uint8\n",
       "CASE_STATUS_nan                  uint8\n",
       "dtype: object"
      ]
     },
     "execution_count": 62,
     "metadata": {},
     "output_type": "execute_result"
    }
   ],
   "source": [
    "df.dtypes"
   ]
  },
  {
   "cell_type": "code",
   "execution_count": 63,
   "metadata": {},
   "outputs": [
    {
     "data": {
      "text/html": [
       "<div>\n",
       "<style scoped>\n",
       "    .dataframe tbody tr th:only-of-type {\n",
       "        vertical-align: middle;\n",
       "    }\n",
       "\n",
       "    .dataframe tbody tr th {\n",
       "        vertical-align: top;\n",
       "    }\n",
       "\n",
       "    .dataframe thead th {\n",
       "        text-align: right;\n",
       "    }\n",
       "</style>\n",
       "<table border=\"1\" class=\"dataframe\">\n",
       "  <thead>\n",
       "    <tr style=\"text-align: right;\">\n",
       "      <th></th>\n",
       "      <th>AGENT_ATTORNEY_CITY</th>\n",
       "      <th>AGENT_ATTORNEY_NAME</th>\n",
       "      <th>DURATION</th>\n",
       "      <th>HOURLY_WAGE</th>\n",
       "      <th>SOC_NAME</th>\n",
       "      <th>WAGE_RATE_OF_PAY_FROM_HOUR</th>\n",
       "      <th>WILLFUL_VIOLATOR</th>\n",
       "      <th>AGENT_PRESENT_0.0</th>\n",
       "      <th>AGENT_PRESENT_1.0</th>\n",
       "      <th>AGENT_PRESENT_nan</th>\n",
       "      <th>CASE_STATUS_0.0</th>\n",
       "      <th>CASE_STATUS_1.0</th>\n",
       "      <th>CASE_STATUS_nan</th>\n",
       "    </tr>\n",
       "  </thead>\n",
       "  <tbody>\n",
       "    <tr>\n",
       "      <th>0</th>\n",
       "      <td>MINNEAPOLIS</td>\n",
       "      <td>DEBRA SCHNEIDER</td>\n",
       "      <td>0</td>\n",
       "      <td>9.9</td>\n",
       "      <td>MECHANICAL ENGINEERS</td>\n",
       "      <td>10.40</td>\n",
       "      <td>26</td>\n",
       "      <td>0</td>\n",
       "      <td>1</td>\n",
       "      <td>0</td>\n",
       "      <td>1</td>\n",
       "      <td>0</td>\n",
       "      <td>0</td>\n",
       "    </tr>\n",
       "    <tr>\n",
       "      <th>1</th>\n",
       "      <td>NaN</td>\n",
       "      <td>NaN</td>\n",
       "      <td>6</td>\n",
       "      <td>22.3</td>\n",
       "      <td>ENGINEERING TEACHERS, POSTSECONDARY</td>\n",
       "      <td>44.30</td>\n",
       "      <td>40</td>\n",
       "      <td>1</td>\n",
       "      <td>0</td>\n",
       "      <td>0</td>\n",
       "      <td>0</td>\n",
       "      <td>1</td>\n",
       "      <td>0</td>\n",
       "    </tr>\n",
       "    <tr>\n",
       "      <th>2</th>\n",
       "      <td>SCHAUMBURG</td>\n",
       "      <td>ELDON KAKUDA</td>\n",
       "      <td>6</td>\n",
       "      <td>34.4</td>\n",
       "      <td>ELECTRONICS ENGINEERS, EXCEPT COMPUTER</td>\n",
       "      <td>34.40</td>\n",
       "      <td>49</td>\n",
       "      <td>0</td>\n",
       "      <td>1</td>\n",
       "      <td>0</td>\n",
       "      <td>0</td>\n",
       "      <td>1</td>\n",
       "      <td>0</td>\n",
       "    </tr>\n",
       "    <tr>\n",
       "      <th>3</th>\n",
       "      <td>WASHINGTON</td>\n",
       "      <td>JAMES ALEXANDER</td>\n",
       "      <td>6</td>\n",
       "      <td>50.5</td>\n",
       "      <td>COMPUTER PROGRAMMERS</td>\n",
       "      <td>50.50</td>\n",
       "      <td>51</td>\n",
       "      <td>0</td>\n",
       "      <td>1</td>\n",
       "      <td>0</td>\n",
       "      <td>0</td>\n",
       "      <td>1</td>\n",
       "      <td>0</td>\n",
       "    </tr>\n",
       "    <tr>\n",
       "      <th>4</th>\n",
       "      <td>MINNEAPOLIS</td>\n",
       "      <td>DEBRA SCHNEIDER</td>\n",
       "      <td>0</td>\n",
       "      <td>10.4</td>\n",
       "      <td>MARKET RESEARCH ANALYSTS</td>\n",
       "      <td>10.40</td>\n",
       "      <td>26</td>\n",
       "      <td>0</td>\n",
       "      <td>1</td>\n",
       "      <td>0</td>\n",
       "      <td>1</td>\n",
       "      <td>0</td>\n",
       "      <td>0</td>\n",
       "    </tr>\n",
       "    <tr>\n",
       "      <th>...</th>\n",
       "      <td>...</td>\n",
       "      <td>...</td>\n",
       "      <td>...</td>\n",
       "      <td>...</td>\n",
       "      <td>...</td>\n",
       "      <td>...</td>\n",
       "      <td>...</td>\n",
       "      <td>...</td>\n",
       "      <td>...</td>\n",
       "      <td>...</td>\n",
       "      <td>...</td>\n",
       "      <td>...</td>\n",
       "      <td>...</td>\n",
       "    </tr>\n",
       "    <tr>\n",
       "      <th>961941</th>\n",
       "      <td>NaN</td>\n",
       "      <td>NaN</td>\n",
       "      <td>6</td>\n",
       "      <td>33.5</td>\n",
       "      <td>WEB DEVELOPERS</td>\n",
       "      <td>33.53</td>\n",
       "      <td>42</td>\n",
       "      <td>1</td>\n",
       "      <td>0</td>\n",
       "      <td>0</td>\n",
       "      <td>0</td>\n",
       "      <td>1</td>\n",
       "      <td>0</td>\n",
       "    </tr>\n",
       "    <tr>\n",
       "      <th>961942</th>\n",
       "      <td>WEST BLOOMFIELD</td>\n",
       "      <td>SHERMAN, MICHAEL</td>\n",
       "      <td>6</td>\n",
       "      <td>32.9</td>\n",
       "      <td>WEB DEVELOPERS</td>\n",
       "      <td>59.10</td>\n",
       "      <td>25</td>\n",
       "      <td>0</td>\n",
       "      <td>1</td>\n",
       "      <td>0</td>\n",
       "      <td>0</td>\n",
       "      <td>1</td>\n",
       "      <td>0</td>\n",
       "    </tr>\n",
       "    <tr>\n",
       "      <th>961943</th>\n",
       "      <td>WASHINGTON</td>\n",
       "      <td>MUHLENKAMP, PRISCILLA</td>\n",
       "      <td>6</td>\n",
       "      <td>33.1</td>\n",
       "      <td>WEB DEVELOPERS</td>\n",
       "      <td>33.10</td>\n",
       "      <td>22</td>\n",
       "      <td>0</td>\n",
       "      <td>1</td>\n",
       "      <td>0</td>\n",
       "      <td>0</td>\n",
       "      <td>1</td>\n",
       "      <td>0</td>\n",
       "    </tr>\n",
       "    <tr>\n",
       "      <th>961944</th>\n",
       "      <td>RESTON</td>\n",
       "      <td>GOEL, VIC</td>\n",
       "      <td>4</td>\n",
       "      <td>38.2</td>\n",
       "      <td>WEB DEVELOPERS</td>\n",
       "      <td>38.20</td>\n",
       "      <td>22</td>\n",
       "      <td>0</td>\n",
       "      <td>1</td>\n",
       "      <td>0</td>\n",
       "      <td>0</td>\n",
       "      <td>1</td>\n",
       "      <td>0</td>\n",
       "    </tr>\n",
       "    <tr>\n",
       "      <th>961945</th>\n",
       "      <td>RESTON</td>\n",
       "      <td>GOEL, VIC</td>\n",
       "      <td>6</td>\n",
       "      <td>30.6</td>\n",
       "      <td>WEB DEVELOPERS</td>\n",
       "      <td>32.60</td>\n",
       "      <td>22</td>\n",
       "      <td>0</td>\n",
       "      <td>1</td>\n",
       "      <td>0</td>\n",
       "      <td>0</td>\n",
       "      <td>1</td>\n",
       "      <td>0</td>\n",
       "    </tr>\n",
       "  </tbody>\n",
       "</table>\n",
       "<p>961946 rows × 13 columns</p>\n",
       "</div>"
      ],
      "text/plain": [
       "       AGENT_ATTORNEY_CITY    AGENT_ATTORNEY_NAME  DURATION  HOURLY_WAGE  \\\n",
       "0              MINNEAPOLIS        DEBRA SCHNEIDER         0          9.9   \n",
       "1                      NaN                    NaN         6         22.3   \n",
       "2               SCHAUMBURG           ELDON KAKUDA         6         34.4   \n",
       "3               WASHINGTON        JAMES ALEXANDER         6         50.5   \n",
       "4              MINNEAPOLIS        DEBRA SCHNEIDER         0         10.4   \n",
       "...                    ...                    ...       ...          ...   \n",
       "961941                 NaN                    NaN         6         33.5   \n",
       "961942     WEST BLOOMFIELD       SHERMAN, MICHAEL         6         32.9   \n",
       "961943          WASHINGTON  MUHLENKAMP, PRISCILLA         6         33.1   \n",
       "961944              RESTON              GOEL, VIC         4         38.2   \n",
       "961945              RESTON              GOEL, VIC         6         30.6   \n",
       "\n",
       "                                      SOC_NAME  WAGE_RATE_OF_PAY_FROM_HOUR  \\\n",
       "0                         MECHANICAL ENGINEERS                       10.40   \n",
       "1          ENGINEERING TEACHERS, POSTSECONDARY                       44.30   \n",
       "2       ELECTRONICS ENGINEERS, EXCEPT COMPUTER                       34.40   \n",
       "3                         COMPUTER PROGRAMMERS                       50.50   \n",
       "4                     MARKET RESEARCH ANALYSTS                       10.40   \n",
       "...                                        ...                         ...   \n",
       "961941                          WEB DEVELOPERS                       33.53   \n",
       "961942                          WEB DEVELOPERS                       59.10   \n",
       "961943                          WEB DEVELOPERS                       33.10   \n",
       "961944                          WEB DEVELOPERS                       38.20   \n",
       "961945                          WEB DEVELOPERS                       32.60   \n",
       "\n",
       "       WILLFUL_VIOLATOR  AGENT_PRESENT_0.0  AGENT_PRESENT_1.0  \\\n",
       "0                    26                  0                  1   \n",
       "1                    40                  1                  0   \n",
       "2                    49                  0                  1   \n",
       "3                    51                  0                  1   \n",
       "4                    26                  0                  1   \n",
       "...                 ...                ...                ...   \n",
       "961941               42                  1                  0   \n",
       "961942               25                  0                  1   \n",
       "961943               22                  0                  1   \n",
       "961944               22                  0                  1   \n",
       "961945               22                  0                  1   \n",
       "\n",
       "        AGENT_PRESENT_nan  CASE_STATUS_0.0  CASE_STATUS_1.0  CASE_STATUS_nan  \n",
       "0                       0                1                0                0  \n",
       "1                       0                0                1                0  \n",
       "2                       0                0                1                0  \n",
       "3                       0                0                1                0  \n",
       "4                       0                1                0                0  \n",
       "...                   ...              ...              ...              ...  \n",
       "961941                  0                0                1                0  \n",
       "961942                  0                0                1                0  \n",
       "961943                  0                0                1                0  \n",
       "961944                  0                0                1                0  \n",
       "961945                  0                0                1                0  \n",
       "\n",
       "[961946 rows x 13 columns]"
      ]
     },
     "execution_count": 63,
     "metadata": {},
     "output_type": "execute_result"
    }
   ],
   "source": [
    "df"
   ]
  },
  {
   "cell_type": "code",
   "execution_count": 64,
   "metadata": {},
   "outputs": [],
   "source": [
    "df.to_csv(r'C:\\Users\\kjain307\\Documents\\GitHub\\INST737-UniversityOfMaryland-DataScience-H1BAnalysis\\Milestone2\\encoding\\onehotenc_clean.csv', encoding='utf-8')"
   ]
  },
  {
   "cell_type": "code",
   "execution_count": null,
   "metadata": {},
   "outputs": [],
   "source": []
  }
 ],
 "metadata": {
  "kernelspec": {
   "display_name": "Python 3",
   "language": "python",
   "name": "python3"
  },
  "language_info": {
   "codemirror_mode": {
    "name": "ipython",
    "version": 3
   },
   "file_extension": ".py",
   "mimetype": "text/x-python",
   "name": "python",
   "nbconvert_exporter": "python",
   "pygments_lexer": "ipython3",
   "version": "3.7.6"
  }
 },
 "nbformat": 4,
 "nbformat_minor": 4
}
