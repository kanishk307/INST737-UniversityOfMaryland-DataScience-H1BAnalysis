{
 "cells": [
  {
   "cell_type": "code",
   "execution_count": 1,
   "metadata": {},
   "outputs": [],
   "source": [
    "import numpy as np\n",
    "import pandas as pd\n",
    "from sklearn import preprocessing\n",
    "import matplotlib.pyplot as plt  \n",
    "import seaborn as seabornInstance \n",
    "from sklearn.model_selection import train_test_split \n",
    "from sklearn.linear_model import LinearRegression\n",
    "from sklearn import metrics\n",
    "%matplotlib inline\n",
    "import statsmodels.api as sm\n",
    "from sklearn import datasets"
   ]
  },
  {
   "cell_type": "code",
   "execution_count": 4,
   "metadata": {},
   "outputs": [],
   "source": [
    "# csv_path = r\"C:\\Users\\kjain307\\Documents\\GitHub\\INST737-UniversityOfMaryland-DataScience-H1BAnalysis\\Milestone2\\encoding\\2803clean2.csv\""
   ]
  },
  {
   "cell_type": "code",
   "execution_count": 19,
   "metadata": {},
   "outputs": [],
   "source": [
    "df1=pd.read_csv(r'C:\\Users\\kjain307\\Documents\\GitHub\\INST737-UniversityOfMaryland-DataScience-H1BAnalysis\\Milestone2\\encoding\\2803clean-new2.csv')"
   ]
  },
  {
   "cell_type": "code",
   "execution_count": 20,
   "metadata": {},
   "outputs": [
    {
     "data": {
      "text/plain": [
       "Unnamed: 0                      int64\n",
       "Unnamed: 0.1                    int64\n",
       "AGENT_ATTORNEY_CITY            object\n",
       "AGENT_ATTORNEY_NAME            object\n",
       "AGENT_ATTORNEY_STATE           object\n",
       "AGENT_PRESENT                   int64\n",
       "CASE_NUMBER                    object\n",
       "CASE_STATUS                     int64\n",
       "CASE_SUBMITTED                 object\n",
       "DECISION_DATE                  object\n",
       "DURATION                        int64\n",
       "EMPLOYER_ADDRESS               object\n",
       "EMPLOYER_CITY                  object\n",
       "EMPLOYER_COUNTRY               object\n",
       "EMPLOYER_NAME                  object\n",
       "EMPLOYER_STATE                  int64\n",
       "EMPLOYMENT_END_DATE            object\n",
       "EMPLOYMENT_START_DATE          object\n",
       "H-1B_DEPENDENT                 object\n",
       "JOB_TITLE                      object\n",
       "PREVAILING_WAGE               float64\n",
       "HOURLY_WAGE                   float64\n",
       "PW_UNIT_OF_PAY                 object\n",
       "PW_WAGE_SOURCE_YEAR             int64\n",
       "SOC_CODE                       object\n",
       "SOC_NAME                       object\n",
       "TOTAL_WORKERS                   int64\n",
       "VISA_CLASS                     object\n",
       "WAGE_RATE_OF_PAY_FROM         float64\n",
       "WAGE_RATE_OF_PAY_FROM_HOUR    float64\n",
       "WAGE_RATE_OF_PAY_TO            object\n",
       "WAGE_UNIT_OF_PAY               object\n",
       "WILLFUL_VIOLATOR                int64\n",
       "WORKSITE_CITY                  object\n",
       "WORKSITE_COUNTY                object\n",
       "WORKSITE_POSTAL_CODE           object\n",
       "WORKSITE_STATE                  int64\n",
       "dtype: object"
      ]
     },
     "execution_count": 20,
     "metadata": {},
     "output_type": "execute_result"
    }
   ],
   "source": [
    "df1.dtypes"
   ]
  },
  {
   "cell_type": "code",
   "execution_count": 21,
   "metadata": {},
   "outputs": [],
   "source": [
    "df1['CASE_STATUS'] = np.where(df1.CASE_STATUS == 3, 2, df1.CASE_STATUS)"
   ]
  },
  {
   "cell_type": "code",
   "execution_count": 22,
   "metadata": {},
   "outputs": [],
   "source": [
    "df1['CASE_STATUS'] = np.where(df1.CASE_STATUS == 1, 0, df1.CASE_STATUS)"
   ]
  },
  {
   "cell_type": "code",
   "execution_count": 24,
   "metadata": {},
   "outputs": [],
   "source": [
    "df1['CASE_STATUS'] = np.where(df1.CASE_STATUS == 0, 1, df1.CASE_STATUS)"
   ]
  },
  {
   "cell_type": "code",
   "execution_count": 26,
   "metadata": {},
   "outputs": [],
   "source": [
    "df1['CASE_STATUS'] = np.where(df1.CASE_STATUS == 2, 0, df1.CASE_STATUS)"
   ]
  },
  {
   "cell_type": "code",
   "execution_count": 27,
   "metadata": {},
   "outputs": [
    {
     "data": {
      "text/plain": [
       "0          0\n",
       "1          1\n",
       "2          0\n",
       "3          1\n",
       "4          1\n",
       "          ..\n",
       "1027838    1\n",
       "1027839    1\n",
       "1027840    1\n",
       "1027841    1\n",
       "1027842    1\n",
       "Name: CASE_STATUS, Length: 1027843, dtype: int64"
      ]
     },
     "execution_count": 27,
     "metadata": {},
     "output_type": "execute_result"
    }
   ],
   "source": [
    "df1['CASE_STATUS']"
   ]
  },
  {
   "cell_type": "code",
   "execution_count": 31,
   "metadata": {},
   "outputs": [],
   "source": [
    "df1.to_csv(r'C:\\Users\\kjain307\\Documents\\GitHub\\INST737-UniversityOfMaryland-DataScience-H1BAnalysis\\Milestone2\\encoding\\2803clean-new2.csv')"
   ]
  },
  {
   "cell_type": "code",
   "execution_count": null,
   "metadata": {},
   "outputs": [],
   "source": []
  }
 ],
 "metadata": {
  "kernelspec": {
   "display_name": "Python 3",
   "language": "python",
   "name": "python3"
  },
  "language_info": {
   "codemirror_mode": {
    "name": "ipython",
    "version": 3
   },
   "file_extension": ".py",
   "mimetype": "text/x-python",
   "name": "python",
   "nbconvert_exporter": "python",
   "pygments_lexer": "ipython3",
   "version": "3.7.6"
  }
 },
 "nbformat": 4,
 "nbformat_minor": 4
}
