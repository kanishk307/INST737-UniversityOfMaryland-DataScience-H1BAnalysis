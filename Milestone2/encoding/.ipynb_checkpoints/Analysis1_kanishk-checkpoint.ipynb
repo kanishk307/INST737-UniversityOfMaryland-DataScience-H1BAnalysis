{
 "cells": [
  {
   "cell_type": "code",
   "execution_count": 1,
   "metadata": {},
   "outputs": [],
   "source": [
    "import numpy as np\n",
    "import pandas as pd"
   ]
  },
  {
   "cell_type": "code",
   "execution_count": 2,
   "metadata": {},
   "outputs": [],
   "source": [
    "csv_path = r\"C:\\Users\\kjain307\\Documents\\GitHub\\INST737-UniversityOfMaryland-DataScience-H1BAnalysis\\Milestone2\\encoding\\2803clean-new.csv\""
   ]
  },
  {
   "cell_type": "code",
   "execution_count": 3,
   "metadata": {},
   "outputs": [
    {
     "name": "stderr",
     "output_type": "stream",
     "text": [
      "C:\\Users\\kjain307\\Anaconda3\\lib\\site-packages\\IPython\\core\\interactiveshell.py:3063: DtypeWarning: Columns (29) have mixed types.Specify dtype option on import or set low_memory=False.\n",
      "  interactivity=interactivity, compiler=compiler, result=result)\n"
     ]
    }
   ],
   "source": [
    "df=pd.read_csv(csv_path)"
   ]
  },
  {
   "cell_type": "code",
   "execution_count": 4,
   "metadata": {},
   "outputs": [],
   "source": [
    "df[\"SOC_NAME_Category\"] = df[\"SOC_NAME\"].astype('category').cat.codes"
   ]
  },
  {
   "cell_type": "code",
   "execution_count": 5,
   "metadata": {},
   "outputs": [],
   "source": [
    "df['SOC_NAME_Category']=df['SOC_NAME_Category'].astype('category',copy=False)"
   ]
  },
  {
   "cell_type": "code",
   "execution_count": 6,
   "metadata": {},
   "outputs": [
    {
     "data": {
      "text/html": [
       "<div>\n",
       "<style scoped>\n",
       "    .dataframe tbody tr th:only-of-type {\n",
       "        vertical-align: middle;\n",
       "    }\n",
       "\n",
       "    .dataframe tbody tr th {\n",
       "        vertical-align: top;\n",
       "    }\n",
       "\n",
       "    .dataframe thead th {\n",
       "        text-align: right;\n",
       "    }\n",
       "</style>\n",
       "<table border=\"1\" class=\"dataframe\">\n",
       "  <thead>\n",
       "    <tr style=\"text-align: right;\">\n",
       "      <th></th>\n",
       "      <th>Unnamed: 0</th>\n",
       "      <th>AGENT_ATTORNEY_CITY</th>\n",
       "      <th>AGENT_ATTORNEY_NAME</th>\n",
       "      <th>AGENT_ATTORNEY_STATE</th>\n",
       "      <th>AGENT_PRESENT</th>\n",
       "      <th>CASE_NUMBER</th>\n",
       "      <th>CASE_STATUS</th>\n",
       "      <th>CASE_SUBMITTED</th>\n",
       "      <th>DECISION_DATE</th>\n",
       "      <th>DURATION</th>\n",
       "      <th>...</th>\n",
       "      <th>WAGE_RATE_OF_PAY_FROM</th>\n",
       "      <th>WAGE_RATE_OF_PAY_FROM_YEAR</th>\n",
       "      <th>WAGE_RATE_OF_PAY_TO</th>\n",
       "      <th>WAGE_UNIT_OF_PAY</th>\n",
       "      <th>WILLFUL_VIOLATOR</th>\n",
       "      <th>WORKSITE_CITY</th>\n",
       "      <th>WORKSITE_COUNTY</th>\n",
       "      <th>WORKSITE_POSTAL_CODE</th>\n",
       "      <th>WORKSITE_STATE</th>\n",
       "      <th>SOC_NAME_Category</th>\n",
       "    </tr>\n",
       "  </thead>\n",
       "  <tbody>\n",
       "    <tr>\n",
       "      <th>0</th>\n",
       "      <td>0</td>\n",
       "      <td>MINNEAPOLIS</td>\n",
       "      <td>DEBRA SCHNEIDER</td>\n",
       "      <td>MN</td>\n",
       "      <td>1</td>\n",
       "      <td>I-200-09121-701936</td>\n",
       "      <td>3</td>\n",
       "      <td>2/5/2015</td>\n",
       "      <td>2/5/2015</td>\n",
       "      <td>0</td>\n",
       "      <td>...</td>\n",
       "      <td>20000.0</td>\n",
       "      <td>20000.0</td>\n",
       "      <td>NaN</td>\n",
       "      <td>Year</td>\n",
       "      <td>0</td>\n",
       "      <td>EDEN PRAIRIE</td>\n",
       "      <td>STERNS</td>\n",
       "      <td>55412</td>\n",
       "      <td>4</td>\n",
       "      <td>650</td>\n",
       "    </tr>\n",
       "    <tr>\n",
       "      <th>1</th>\n",
       "      <td>1</td>\n",
       "      <td>NaN</td>\n",
       "      <td>NaN</td>\n",
       "      <td>NaN</td>\n",
       "      <td>0</td>\n",
       "      <td>I-200-09146-796321</td>\n",
       "      <td>0</td>\n",
       "      <td>12/12/2014</td>\n",
       "      <td>12/18/2014</td>\n",
       "      <td>6</td>\n",
       "      <td>...</td>\n",
       "      <td>85000.0</td>\n",
       "      <td>85000.0</td>\n",
       "      <td>NaN</td>\n",
       "      <td>Year</td>\n",
       "      <td>0</td>\n",
       "      <td>NORMAN</td>\n",
       "      <td>CLEVELAND</td>\n",
       "      <td>73019</td>\n",
       "      <td>40</td>\n",
       "      <td>383</td>\n",
       "    </tr>\n",
       "    <tr>\n",
       "      <th>2</th>\n",
       "      <td>2</td>\n",
       "      <td>DALLAS</td>\n",
       "      <td>HASEENA ENU</td>\n",
       "      <td>TX</td>\n",
       "      <td>1</td>\n",
       "      <td>I-200-09180-329758</td>\n",
       "      <td>3</td>\n",
       "      <td>1/3/2013</td>\n",
       "      <td>12/15/2014</td>\n",
       "      <td>711</td>\n",
       "      <td>...</td>\n",
       "      <td>94000.0</td>\n",
       "      <td>94000.0</td>\n",
       "      <td>NaN</td>\n",
       "      <td>Year</td>\n",
       "      <td>0</td>\n",
       "      <td>SAN DIEGO</td>\n",
       "      <td>SAN DIEGO</td>\n",
       "      <td>92127</td>\n",
       "      <td>4</td>\n",
       "      <td>205</td>\n",
       "    </tr>\n",
       "    <tr>\n",
       "      <th>3</th>\n",
       "      <td>3</td>\n",
       "      <td>SCHAUMBURG</td>\n",
       "      <td>ELDON KAKUDA</td>\n",
       "      <td>IL</td>\n",
       "      <td>1</td>\n",
       "      <td>I-200-09183-259985</td>\n",
       "      <td>0</td>\n",
       "      <td>3/10/2015</td>\n",
       "      <td>3/16/2015</td>\n",
       "      <td>6</td>\n",
       "      <td>...</td>\n",
       "      <td>66000.0</td>\n",
       "      <td>66000.0</td>\n",
       "      <td>70000</td>\n",
       "      <td>Year</td>\n",
       "      <td>0</td>\n",
       "      <td>HOUSTON</td>\n",
       "      <td>HARRIS</td>\n",
       "      <td>77088</td>\n",
       "      <td>49</td>\n",
       "      <td>365</td>\n",
       "    </tr>\n",
       "    <tr>\n",
       "      <th>4</th>\n",
       "      <td>4</td>\n",
       "      <td>WASHINGTON</td>\n",
       "      <td>JAMES ALEXANDER</td>\n",
       "      <td>DC</td>\n",
       "      <td>1</td>\n",
       "      <td>I-200-09189-800933</td>\n",
       "      <td>0</td>\n",
       "      <td>12/17/2014</td>\n",
       "      <td>12/23/2014</td>\n",
       "      <td>6</td>\n",
       "      <td>...</td>\n",
       "      <td>97000.0</td>\n",
       "      <td>97000.0</td>\n",
       "      <td>143300</td>\n",
       "      <td>Year</td>\n",
       "      <td>0</td>\n",
       "      <td>MCLEAN</td>\n",
       "      <td>FAIRFAX</td>\n",
       "      <td>22102</td>\n",
       "      <td>51</td>\n",
       "      <td>214</td>\n",
       "    </tr>\n",
       "  </tbody>\n",
       "</table>\n",
       "<p>5 rows × 37 columns</p>\n",
       "</div>"
      ],
      "text/plain": [
       "   Unnamed: 0 AGENT_ATTORNEY_CITY AGENT_ATTORNEY_NAME AGENT_ATTORNEY_STATE  \\\n",
       "0           0         MINNEAPOLIS     DEBRA SCHNEIDER                   MN   \n",
       "1           1                 NaN                 NaN                  NaN   \n",
       "2           2              DALLAS         HASEENA ENU                   TX   \n",
       "3           3          SCHAUMBURG        ELDON KAKUDA                   IL   \n",
       "4           4          WASHINGTON     JAMES ALEXANDER                   DC   \n",
       "\n",
       "   AGENT_PRESENT         CASE_NUMBER  CASE_STATUS CASE_SUBMITTED  \\\n",
       "0              1  I-200-09121-701936            3       2/5/2015   \n",
       "1              0  I-200-09146-796321            0     12/12/2014   \n",
       "2              1  I-200-09180-329758            3       1/3/2013   \n",
       "3              1  I-200-09183-259985            0      3/10/2015   \n",
       "4              1  I-200-09189-800933            0     12/17/2014   \n",
       "\n",
       "  DECISION_DATE  DURATION  ... WAGE_RATE_OF_PAY_FROM  \\\n",
       "0      2/5/2015         0  ...               20000.0   \n",
       "1    12/18/2014         6  ...               85000.0   \n",
       "2    12/15/2014       711  ...               94000.0   \n",
       "3     3/16/2015         6  ...               66000.0   \n",
       "4    12/23/2014         6  ...               97000.0   \n",
       "\n",
       "  WAGE_RATE_OF_PAY_FROM_YEAR WAGE_RATE_OF_PAY_TO WAGE_UNIT_OF_PAY  \\\n",
       "0                    20000.0                 NaN             Year   \n",
       "1                    85000.0                 NaN             Year   \n",
       "2                    94000.0                 NaN             Year   \n",
       "3                    66000.0               70000             Year   \n",
       "4                    97000.0              143300             Year   \n",
       "\n",
       "   WILLFUL_VIOLATOR WORKSITE_CITY WORKSITE_COUNTY WORKSITE_POSTAL_CODE  \\\n",
       "0                 0  EDEN PRAIRIE          STERNS                55412   \n",
       "1                 0        NORMAN       CLEVELAND                73019   \n",
       "2                 0     SAN DIEGO       SAN DIEGO                92127   \n",
       "3                 0       HOUSTON          HARRIS                77088   \n",
       "4                 0        MCLEAN         FAIRFAX                22102   \n",
       "\n",
       "  WORKSITE_STATE  SOC_NAME_Category  \n",
       "0              4                650  \n",
       "1             40                383  \n",
       "2              4                205  \n",
       "3             49                365  \n",
       "4             51                214  \n",
       "\n",
       "[5 rows x 37 columns]"
      ]
     },
     "execution_count": 6,
     "metadata": {},
     "output_type": "execute_result"
    }
   ],
   "source": [
    "df.head(5)"
   ]
  },
  {
   "cell_type": "code",
   "execution_count": 7,
   "metadata": {},
   "outputs": [],
   "source": [
    "#df.describe(include=\"all\")"
   ]
  },
  {
   "cell_type": "code",
   "execution_count": 8,
   "metadata": {},
   "outputs": [],
   "source": [
    "df['WORKSITE_STATE']=df['WORKSITE_STATE'].astype('category')"
   ]
  },
  {
   "cell_type": "code",
   "execution_count": 9,
   "metadata": {},
   "outputs": [],
   "source": [
    "df['WILLFUL_VIOLATOR']=df['WILLFUL_VIOLATOR'].astype('category')"
   ]
  },
  {
   "cell_type": "code",
   "execution_count": 10,
   "metadata": {},
   "outputs": [],
   "source": [
    "df['EMPLOYER_STATE']=df['EMPLOYER_STATE'].astype('category')"
   ]
  },
  {
   "cell_type": "code",
   "execution_count": 11,
   "metadata": {},
   "outputs": [],
   "source": [
    "df['CASE_STATUS']=df['CASE_STATUS'].astype('category')"
   ]
  },
  {
   "cell_type": "code",
   "execution_count": 12,
   "metadata": {},
   "outputs": [],
   "source": [
    "df['AGENT_PRESENT']=df['AGENT_PRESENT'].astype('category')"
   ]
  },
  {
   "cell_type": "code",
   "execution_count": 13,
   "metadata": {},
   "outputs": [
    {
     "data": {
      "text/plain": [
       "Unnamed: 0                       int64\n",
       "AGENT_ATTORNEY_CITY             object\n",
       "AGENT_ATTORNEY_NAME             object\n",
       "AGENT_ATTORNEY_STATE            object\n",
       "AGENT_PRESENT                 category\n",
       "CASE_NUMBER                     object\n",
       "CASE_STATUS                   category\n",
       "CASE_SUBMITTED                  object\n",
       "DECISION_DATE                   object\n",
       "DURATION                         int64\n",
       "EMPLOYER_ADDRESS                object\n",
       "EMPLOYER_CITY                   object\n",
       "EMPLOYER_COUNTRY                object\n",
       "EMPLOYER_NAME                   object\n",
       "EMPLOYER_STATE                category\n",
       "EMPLOYMENT_END_DATE             object\n",
       "EMPLOYMENT_START_DATE           object\n",
       "H-1B_DEPENDENT                  object\n",
       "JOB_TITLE                       object\n",
       "PREVAILING_WAGE                float64\n",
       "YEARLY_WAGE                    float64\n",
       "PW_UNIT_OF_PAY                  object\n",
       "PW_WAGE_SOURCE_YEAR              int64\n",
       "SOC_CODE                        object\n",
       "SOC_NAME                        object\n",
       "TOTAL_WORKERS                    int64\n",
       "VISA_CLASS                      object\n",
       "WAGE_RATE_OF_PAY_FROM          float64\n",
       "WAGE_RATE_OF_PAY_FROM_YEAR     float64\n",
       "WAGE_RATE_OF_PAY_TO             object\n",
       "WAGE_UNIT_OF_PAY                object\n",
       "WILLFUL_VIOLATOR              category\n",
       "WORKSITE_CITY                   object\n",
       "WORKSITE_COUNTY                 object\n",
       "WORKSITE_POSTAL_CODE            object\n",
       "WORKSITE_STATE                category\n",
       "SOC_NAME_Category             category\n",
       "dtype: object"
      ]
     },
     "execution_count": 13,
     "metadata": {},
     "output_type": "execute_result"
    }
   ],
   "source": [
    "df.dtypes"
   ]
  },
  {
   "cell_type": "code",
   "execution_count": 14,
   "metadata": {},
   "outputs": [],
   "source": [
    "#lets select some features which we want to use for linear regression"
   ]
  },
  {
   "cell_type": "code",
   "execution_count": 15,
   "metadata": {},
   "outputs": [],
   "source": [
    "cdf = df[['DURATION', 'YEARLY_WAGE', 'TOTAL_WORKERS', 'WILLFUL_VIOLATOR', 'WORKSITE_STATE', 'EMPLOYER_STATE', 'CASE_STATUS','AGENT_PRESENT','SOC_NAME_Category' ]]"
   ]
  },
  {
   "cell_type": "code",
   "execution_count": 16,
   "metadata": {},
   "outputs": [
    {
     "data": {
      "text/html": [
       "<div>\n",
       "<style scoped>\n",
       "    .dataframe tbody tr th:only-of-type {\n",
       "        vertical-align: middle;\n",
       "    }\n",
       "\n",
       "    .dataframe tbody tr th {\n",
       "        vertical-align: top;\n",
       "    }\n",
       "\n",
       "    .dataframe thead th {\n",
       "        text-align: right;\n",
       "    }\n",
       "</style>\n",
       "<table border=\"1\" class=\"dataframe\">\n",
       "  <thead>\n",
       "    <tr style=\"text-align: right;\">\n",
       "      <th></th>\n",
       "      <th>DURATION</th>\n",
       "      <th>YEARLY_WAGE</th>\n",
       "      <th>TOTAL_WORKERS</th>\n",
       "      <th>WILLFUL_VIOLATOR</th>\n",
       "      <th>WORKSITE_STATE</th>\n",
       "      <th>EMPLOYER_STATE</th>\n",
       "      <th>CASE_STATUS</th>\n",
       "      <th>AGENT_PRESENT</th>\n",
       "      <th>SOC_NAME_Category</th>\n",
       "    </tr>\n",
       "  </thead>\n",
       "  <tbody>\n",
       "    <tr>\n",
       "      <th>0</th>\n",
       "      <td>0</td>\n",
       "      <td>19000.0</td>\n",
       "      <td>1</td>\n",
       "      <td>0</td>\n",
       "      <td>4</td>\n",
       "      <td>26</td>\n",
       "      <td>3</td>\n",
       "      <td>1</td>\n",
       "      <td>650</td>\n",
       "    </tr>\n",
       "    <tr>\n",
       "      <th>1</th>\n",
       "      <td>6</td>\n",
       "      <td>42860.0</td>\n",
       "      <td>1</td>\n",
       "      <td>0</td>\n",
       "      <td>40</td>\n",
       "      <td>40</td>\n",
       "      <td>0</td>\n",
       "      <td>0</td>\n",
       "      <td>383</td>\n",
       "    </tr>\n",
       "    <tr>\n",
       "      <th>2</th>\n",
       "      <td>711</td>\n",
       "      <td>73965.0</td>\n",
       "      <td>1</td>\n",
       "      <td>0</td>\n",
       "      <td>4</td>\n",
       "      <td>49</td>\n",
       "      <td>3</td>\n",
       "      <td>1</td>\n",
       "      <td>205</td>\n",
       "    </tr>\n",
       "    <tr>\n",
       "      <th>3</th>\n",
       "      <td>6</td>\n",
       "      <td>65998.0</td>\n",
       "      <td>2</td>\n",
       "      <td>0</td>\n",
       "      <td>49</td>\n",
       "      <td>49</td>\n",
       "      <td>0</td>\n",
       "      <td>1</td>\n",
       "      <td>365</td>\n",
       "    </tr>\n",
       "    <tr>\n",
       "      <th>4</th>\n",
       "      <td>6</td>\n",
       "      <td>96907.0</td>\n",
       "      <td>1</td>\n",
       "      <td>0</td>\n",
       "      <td>51</td>\n",
       "      <td>51</td>\n",
       "      <td>0</td>\n",
       "      <td>1</td>\n",
       "      <td>214</td>\n",
       "    </tr>\n",
       "  </tbody>\n",
       "</table>\n",
       "</div>"
      ],
      "text/plain": [
       "   DURATION  YEARLY_WAGE  TOTAL_WORKERS WILLFUL_VIOLATOR WORKSITE_STATE  \\\n",
       "0         0      19000.0              1                0              4   \n",
       "1         6      42860.0              1                0             40   \n",
       "2       711      73965.0              1                0              4   \n",
       "3         6      65998.0              2                0             49   \n",
       "4         6      96907.0              1                0             51   \n",
       "\n",
       "  EMPLOYER_STATE CASE_STATUS AGENT_PRESENT SOC_NAME_Category  \n",
       "0             26           3             1               650  \n",
       "1             40           0             0               383  \n",
       "2             49           3             1               205  \n",
       "3             49           0             1               365  \n",
       "4             51           0             1               214  "
      ]
     },
     "execution_count": 16,
     "metadata": {},
     "output_type": "execute_result"
    }
   ],
   "source": [
    "cdf.head(5)"
   ]
  },
  {
   "cell_type": "code",
   "execution_count": 17,
   "metadata": {},
   "outputs": [
    {
     "data": {
      "text/plain": [
       "DURATION                int64\n",
       "YEARLY_WAGE           float64\n",
       "TOTAL_WORKERS           int64\n",
       "WILLFUL_VIOLATOR     category\n",
       "WORKSITE_STATE       category\n",
       "EMPLOYER_STATE       category\n",
       "CASE_STATUS          category\n",
       "AGENT_PRESENT        category\n",
       "SOC_NAME_Category    category\n",
       "dtype: object"
      ]
     },
     "execution_count": 17,
     "metadata": {},
     "output_type": "execute_result"
    }
   ],
   "source": [
    "cdf.dtypes"
   ]
  },
  {
   "cell_type": "code",
   "execution_count": 18,
   "metadata": {},
   "outputs": [],
   "source": [
    "#lets plot yearly-wage vs duration"
   ]
  },
  {
   "cell_type": "code",
   "execution_count": 19,
   "metadata": {},
   "outputs": [
    {
     "data": {
      "image/png": "[encoded data removed]",
      "text/plain": [
       "<Figure size 432x288 with 1 Axes>"
      ]
     },
     "metadata": {
      "needs_background": "light"
     },
     "output_type": "display_data"
    }
   ],
   "source": [
    "import matplotlib.pyplot as plt\n",
    "plt.scatter(cdf.YEARLY_WAGE,cdf.DURATION,color='blue')\n",
    "plt.ylabel(\"Duration\")\n",
    "plt.xlabel(\"Yearly wage\")\n",
    "plt.show()"
   ]
  },
  {
   "cell_type": "code",
   "execution_count": 20,
   "metadata": {},
   "outputs": [
    {
     "data": {
      "image/png": "[encoded data removed]",
      "text/plain": [
       "<Figure size 432x288 with 1 Axes>"
      ]
     },
     "metadata": {
      "needs_background": "light"
     },
     "output_type": "display_data"
    }
   ],
   "source": [
    "import matplotlib.pyplot as plt\n",
    "plt.scatter(cdf.YEARLY_WAGE,cdf.DURATION,color='red')\n",
    "plt.ylabel(\"Duration\")\n",
    "plt.xlabel(\"Yearly wage\")\n",
    "plt.show()"
   ]
  },
  {
   "cell_type": "code",
   "execution_count": 26,
   "metadata": {},
   "outputs": [],
   "source": [
    "#len(df['SOC_NAME'].unique())"
   ]
  },
  {
   "cell_type": "code",
   "execution_count": 27,
   "metadata": {},
   "outputs": [],
   "source": [
    "df[\"SOC_NAME_Category\"] = df[\"SOC_NAME\"].astype('category').cat.codes"
   ]
  },
  {
   "cell_type": "code",
   "execution_count": 28,
   "metadata": {},
   "outputs": [],
   "source": [
    "df['SOC_NAME_Category']=df['SOC_NAME_Category'].astype('category',copy=False)"
   ]
  },
  {
   "cell_type": "code",
   "execution_count": 30,
   "metadata": {},
   "outputs": [],
   "source": [
    "#df.head(5)"
   ]
  },
  {
   "cell_type": "code",
   "execution_count": 31,
   "metadata": {},
   "outputs": [
    {
     "data": {
      "text/plain": [
       "89687"
      ]
     },
     "execution_count": 31,
     "metadata": {},
     "output_type": "execute_result"
    }
   ],
   "source": [
    "len(df['EMPLOYER_NAME'].str.upper().unique())"
   ]
  },
  {
   "cell_type": "code",
   "execution_count": 135,
   "metadata": {},
   "outputs": [],
   "source": [
    "df.to_csv(r\"/Users/danishmir/desktop/737-project/Analysis/2803clean-new1.csv\")"
   ]
  },
  {
   "cell_type": "code",
   "execution_count": null,
   "metadata": {},
   "outputs": [],
   "source": []
  }
 ],
 "metadata": {
  "kernelspec": {
   "display_name": "Python 3",
   "language": "python",
   "name": "python3"
  },
  "language_info": {
   "codemirror_mode": {
    "name": "ipython",
    "version": 3
   },
   "file_extension": ".py",
   "mimetype": "text/x-python",
   "name": "python",
   "nbconvert_exporter": "python",
   "pygments_lexer": "ipython3",
   "version": "3.7.6"
  }
 },
 "nbformat": 4,
 "nbformat_minor": 2
}
